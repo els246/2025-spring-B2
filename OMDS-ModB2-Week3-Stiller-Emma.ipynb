<<<<<<< HEAD
{
 "cells": [
  {
   "cell_type": "markdown",
   "id": "e20d972b-a9e2-4aa1-a268-749d7722771d",
   "metadata": {},
   "source": [
    "# Week 3 - Univariate Analysis\n",
    "\n",
    "## Please run the cells of the notebook as you get to them while reading"
   ]
  },

  {
   "cell_type": "code",
<<<<<<< HEAD
   "execution_count": null,
   "id": "81e466f2-afc8-4d96-b87c-bf77d255efb0",
   "metadata": {},
   "outputs": [],
   "source": [
    "import pandas as pd\n",
    "import numpy as np\n",
    "from datetime import datetime, timedelta"
   ]
  },
  {
   "cell_type": "markdown",
   "id": "75d63dbc-c416-4795-b467-2aac90e94936",
   "metadata": {},
   "source": [
    "# 1. Lesson: Bar charts and univariate graphs"
   ]
  },
  {
   "cell_type": "markdown",
   "id": "6ddb2ef8-8dd7-4a31-b4f7-2bda4f8a2dc6",
   "metadata": {},
   "source": [
    "Let's make a dataset (in this case, just a series) which is weighted to have more small values than large values.  By squaring a random number between 0 and 1, we ensure that half (those whose initial value is below 0.5) are below 0.25, while the other half are between 0.25 and 1.  This means that most of the values are small, and it's more interesting than analyzing a perfectly uniform dataset.  This kind of trick - transforming one random variable to get another - can generate a variety of random datasets for you.  We then multiply by 100 to get a number between 0 and 100."
   ]
  },
  {
   "cell_type": "code",
   "execution_count": null,
   "id": "96652a58-79ae-40f4-b67c-b8a0a55013f2",
   "metadata": {},
   "outputs": [],
   "source": [
    "np.random.seed(0)\n",
    "lesson_series = np.round(np.random.random(size = 1000)**2 * 100, 2)\n",
    "lesson_series[0:10] # check the first ten values.  Are they mostly on the small side?"
   ]
  },
  {
   "cell_type": "code",
   "execution_count": null,
   "id": "0d606a71-e00b-47ee-bafb-7fc7bf8ca10d",
   "metadata": {},
   "outputs": [],
   "source": [
    "import seaborn as sns"
   ]
  },
  {
   "cell_type": "markdown",
   "id": "5f508c3c-5912-405d-8013-2fac1ed17e47",
   "metadata": {},
   "source": [
    "In the plot below, you can see a histogram of the values in the series.  For some reason, it decided to have exactly 11 bins (we allowed it to choose the number of bins.)  Most values - about 300 of them - are between 0 and 9, and the next most likely bin is between 9 and 18.  Since there are 1000 values, the total of the bars should be 1000."
   ]
  },
  {
   "cell_type": "code",
   "execution_count": null,
   "id": "0688a654-867b-4e35-9472-0374cd0e1969",
   "metadata": {},
   "outputs": [],
   "source": [
    "sns.histplot(lesson_series)"
   ]
  },
  {
   "cell_type": "markdown",
   "id": "a1532003-348e-4699-bcd3-ae9120a8d6ff",
   "metadata": {},
   "source": [
    "There are 11 bins or bars, a number which by default is chosen by seaborn.  We can reproduce this manually to (hopefully) see the same values as numbers. I'm not sure that this second histogram is guaranteed to be exactly the same, but it looks the same to me:"
   ]
  },
  {
   "cell_type": "code",
   "execution_count": null,
   "id": "37878705-00db-4fc0-80a1-b458f39795a5",
   "metadata": {},
   "outputs": [],
   "source": [
    "np.histogram(lesson_series, bins = 11)[0]"
   ]
  },
  {
   "cell_type": "markdown",
   "id": "5ca689a6-8356-4365-b915-497ea87f27f2",
   "metadata": {},
   "source": [
    "What happens if we override seaborn and choose the number of bins ourselves?  We could choose a much larger number of bins:"
   ]
  },
  {
   "cell_type": "code",
   "execution_count": null,
   "id": "7aa9bfd8-7098-4c3d-89e4-28cd1523f1bd",
   "metadata": {},
   "outputs": [],
   "source": [
    "sns.histplot(lesson_series, bins = 50)"
   ]
  },
  {
   "cell_type": "markdown",
   "id": "6330f86d-d10c-4304-b68a-1a0f2e592d8b",
   "metadata": {},
   "source": [
    "One disadvantage of this 50 bin picture is that the outliers are worse.  That is, the graph wobbles up and down a bit more randomly.  That's because there are fewer values in each bin, so there's more of a role for chance to take effect.  If we had many more data points and/or fewer bins, we could get rid of this wobble."
   ]
  },
  {
   "cell_type": "code",
   "execution_count": null,
   "id": "04cada4b-f3d9-4393-bd07-666a6c23c213",
   "metadata": {},
   "outputs": [],
   "source": [
    "lesson_series_2 = np.round(np.random.random(size = 10000)**2 * 100, 2)\n",
    "sns.histplot(lesson_series_2, bins = 50)"
   ]
  },
  {
   "cell_type": "markdown",
   "id": "42aa1dd3-ffd2-4819-b60e-286416de06b6",
   "metadata": {},
   "source": [
    "Here you can see that because the number of bins is the same as in the second graph above, but for more data, the histogram is a smoother graph.  Why does more data make for a smoother graph?  Something for you to think about.  I said it's because a larger number of data points in each bin reduces the role of chance - but why is that?"
   ]
  },
  {
   "cell_type": "markdown",
   "id": "d6e2c2c0-1569-4555-942a-1bd83c60448a",
   "metadata": {},
   "source": [
    "Here is a KDE (Kernel Density Estimate) plot.  It's just the same histogram, but drawn smoothly.  The KDE plot doesn't have a \"number of bins.\"  It's always drawn the same way.  In this case, because of the smoothness of the curve, it seems that x-values less then zero and above 100 are still plotted, even though there were no such values in the dataset.  This seems like a drawback of the KDE plot, especially if the viewer is unprepared for this aspect of the plot."
   ]
  },
  {
   "cell_type": "code",
   "execution_count": null,
   "id": "b97a0fb0-7de3-4e15-a8ec-1f25dd66d346",
   "metadata": {},
   "outputs": [],
   "source": [
    "sns.kdeplot(lesson_series)"
   ]
  },
  {
   "cell_type": "markdown",
   "id": "8dabbb18-410d-4d8f-8d68-dde5775d98de",
   "metadata": {},
   "source": [
    "We could also draw a box plot.  This time, to construct the data I used a fourth power rather than squaring, with only 100 data points, so that the points are even more concentrated toward the small numbers.  It turns out that this will create a more interesting boxplot.  The top and bottom edges of the box are the 75th and 25th percentile, respectively, and the top and bottom \"whiskers\" show a larger range which is a multiple of 1.5 times the the box height.  (The bottom whisker cannot be see because it's pushed against the bottom of the graph.)  The filled-in box shows that half of the values are between about 0 and 30 on the y-axis.  Is that what you'd expect?  The 25th and 75th percentile of the original uniform random variable are at 0.25 and 0.75.  Taken to the fourth power and multiplied by 100 (remember, that's how we constructed our sample), that's 0.25\\*\\*4 * 100 = 0.4 and 0.75\\*\\*4 * 100 = 32.  It's plausible that those are the height of the bottom and top of the box.  We can see that a small number of samples are above the top whisker; they are shown as individual dots."
   ]
  },
  {
   "cell_type": "code",
   "execution_count": null,
   "id": "463ce00d-95ef-4ac7-b827-419eef7c6a74",
   "metadata": {},
   "outputs": [],
   "source": [
    "lesson_series_3 = np.round(np.random.random(size = 100)**4 * 100, 2)\n",
    "sns.boxplot(lesson_series_3)"
   ]
  },
  {
   "cell_type": "markdown",
   "id": "a7af6744-1401-47b2-baf9-f6e4ca7d039c",
   "metadata": {},
   "source": [
    "If we go back to the original lesson_series with the squared values, there will be two whiskers, because it isn't so strongly weighted toward small values:"
   ]
  },
  {
   "cell_type": "code",
   "execution_count": null,
   "id": "6e978263-079f-49fc-9448-f41a9bac1482",
   "metadata": {},
   "outputs": [],
   "source": [
    "sns.boxplot(lesson_series)"
   ]
  },
  {
   "cell_type": "markdown",
   "id": "3b1e20ff-5610-4a30-8a88-73c784c83c01",
   "metadata": {},
   "source": [
    "Going back to the fourth power series, another histogram variant is the violin plot.  This simply combines a kde plot (turned on its side and forming two side of the violin) with a boxplot:"
   ]
  },
  {
   "cell_type": "code",
   "execution_count": null,
   "id": "fefb2109-f9f7-4859-ace4-2c27c45db3f4",
   "metadata": {},
   "outputs": [],
   "source": [
    "sns.violinplot(lesson_series_3)"
   ]
  },
  {
   "cell_type": "markdown",
   "id": "4c4b302b-852f-4e56-8d94-4325d8bb596a",
   "metadata": {},
   "source": [
    "Finally, a swarm plot shows the histogram (turned on its side and doubled, as with the violin plot) but showing each individual point."
   ]
  },
  {
   "cell_type": "code",
   "execution_count": null,
   "id": "e80081df-fb4c-4bb8-83b2-be302662674a",
   "metadata": {},
   "outputs": [],
   "source": [
    "sns.swarmplot(lesson_series_3)"
   ]
  },
  {
   "cell_type": "markdown",
   "id": "df4e2071-90d1-4bdc-9010-4622ba0bebbb",
   "metadata": {},
   "source": [
    "# 2. Weekly graph question"
   ]
  },
  {
   "cell_type": "markdown",
   "id": "ebe3d84d-c649-4d16-8b25-c41d1a60fd40",
   "metadata": {},
   "source": [
    "Below are a histogram and table representation of the same data.  A species of bird is being analyzed, and each individual's body length in inches has been measured.\n",
    "\n",
    "Please write a short explanation of the pros and cons of these two representations.  Which would you choose?  How would you modify the formatting, if at all, to make it more visually interesting, clear, or informative?"
   ]
  },
  {
   "cell_type": "code",
   "execution_count": null,
   "id": "19a155ac-8ae0-4b05-be4d-7032dafe5df1",
   "metadata": {},
   "outputs": [],
   "source": [
    "import numpy as np\n",
    "import pandas as pd\n",
    "\n",
    "np.random.seed(0)\n",
    "num_data = 10000\n",
    "data = np.random.normal(size = num_data) + 6\n",
    "df = pd.DataFrame(data.T, columns = [\"data\"])"
   ]
  },
  {
   "cell_type": "code",
   "execution_count": null,
   "id": "f1bc4c4b-eeef-4b53-9142-ed982f85f341",
   "metadata": {},
   "outputs": [],
   "source": [
    "histnums = np.histogram(df[\"data\"])\n",
    "histcounts = histnums[0]\n",
    "histmins = histnums[1][0:-1]\n",
    "histmaxes = histnums[1][1:]"
   ]
  },
  {
   "cell_type": "code",
   "execution_count": null,
   "id": "9498b327-02fd-4bc0-a2ed-02c9a1938eb0",
   "metadata": {},
   "outputs": [],
   "source": [
    "pd.DataFrame(np.array([histcounts, histmins, histmaxes]).T, columns = [\"count\", \"minval\", \"maxval\"])"
   ]
  },
  {
   "cell_type": "code",
   "execution_count": null,
   "id": "00edb53d-d204-44b1-ad4a-09d39bc96547",
   "metadata": {},
   "outputs": [],
   "source": [
    "df.plot.hist()"
   ]
  },
  {
   "cell_type": "markdown",
   "id": "231f7050-c29c-4f78-bd66-4f6abc7fb535",
   "metadata": {},
   "source": [
    "# 3. Homework - Amusement Park Rides"
   ]
  },
  {
   "cell_type": "markdown",
   "id": "2931ca68-9665-4c74-9480-23bfbccab34a",
   "metadata": {},
   "source": [
    "Now let's imagine we have some data about how many times different visitors to an amusement park used each ride, as well as how much money they spend at the amusement park.  Each sample represents a single visit by a single visitor on a given date."
   ]
  },
  {
   "cell_type": "code",
   "execution_count": null,
   "id": "512b59a5-748b-4d8c-95f7-d922e9e7fb31",
   "metadata": {},
   "outputs": [],
   "source": [
    "num_visits = 10000\n",
    "np.random.seed(0)"
   ]
  },
  {
   "cell_type": "code",
   "execution_count": null,
   "id": "8a954699-fbaa-425b-95db-236026631c6a",
   "metadata": {},
   "outputs": [],
   "source": [
    "df = pd.DataFrame(columns = [\"VisitDate\"])"
   ]
  },
  {
   "cell_type": "code",
   "execution_count": null,
   "id": "8f0b3b37-2288-45c3-badd-3161dd6b8d09",
   "metadata": {},
   "outputs": [],
   "source": [
    "start = datetime(2010, 1, 1)\n",
    "end = datetime(2024, 1, 1)\n",
    "numdays = (end - start).days\n",
    "random_days = np.random.randint(0, numdays, size = num_visits)\n",
    "s = start + pd.to_timedelta(random_days, unit='D')\n",
    "s = s.sort_values()\n",
    "df[\"VisitDate\"] = s"
   ]
  },
  {
   "cell_type": "code",
   "execution_count": null,
   "id": "b2e18d8f-492e-4d76-9ab2-a0973de4e5f6",
   "metadata": {},
   "outputs": [],
   "source": [
    "df[\"IsAdult\"] = np.random.choice([True, True, False], size = num_visits)"
   ]
  },
  {
   "cell_type": "code",
   "execution_count": null,
   "id": "ae55dbc8-3153-4246-9db7-933554fe04f2",
   "metadata": {},
   "outputs": [],
   "source": [
    "df[\"MartianRide\"] = np.random.choice([0] * 8 + [1] * 3 + [2] * 3 + [3] * 1 + [10], size = num_visits) * df[\"IsAdult\"]"
   ]
  },
  {
   "cell_type": "code",
   "execution_count": null,
   "id": "4e5ed8e1-69cc-4463-9895-fc3c320a5b59",
   "metadata": {},
   "outputs": [],
   "source": [
    "df[\"TeacupRide\"] = np.random.choice([0] * 2 + [1] * 5 + [2] * 3 + [5] * 2, size = num_visits) * ~df[\"IsAdult\"]"
   ]
  },
  {
   "cell_type": "code",
   "execution_count": null,
   "id": "1dbb4b1e-057c-4a36-a241-dc37e4f106ad",
   "metadata": {},
   "outputs": [],
   "source": [
    "df[\"RiverRide\"] = np.random.choice([0] * 8 + [1] * 3 + [2] * 2, size = num_visits) * df[\"IsAdult\"] + np.random.randint(1, 5, size = num_visits) * ~df[\"IsAdult\"]"
   ]
  },
  {
   "cell_type": "code",
   "execution_count": null,
   "id": "831df036-2aa7-4010-a7dc-ac136ca7e919",
   "metadata": {},
   "outputs": [],
   "source": [
    "df[\"MoneySpent\"] = np.round(np.random.random(size = num_visits)**2 * 100, 2)"
   ]
  },
  {
   "cell_type": "code",
   "execution_count": null,
   "id": "1ac12ffe-e5d1-4378-b667-ecddcfffe097",
   "metadata": {},
   "outputs": [],
   "source": [
    "df.iloc[0:5]"
   ]
  },
  {
   "cell_type": "markdown",
   "id": "c6126e8f-4b52-423a-a350-34cf52b29bb4",
   "metadata": {},
   "source": [
    "1. Find the mean, median, and mode for how many times visitors rode each ride.  See Week 1 for Google advice on this."
   ]
  },
  {
   "cell_type": "code",
   "execution_count": null,
   "id": "b71358f5-5ad4-44b2-88eb-9672a26f1de9",
   "metadata": {},
   "outputs": [],
   "source": []
  },
  {
   "cell_type": "markdown",
   "id": "8305f3a4-2658-410d-af24-0f76e55bda30",
   "metadata": {},
   "source": [
    "2. Use groupby() to find the mean, median, and mode for how many times each ride was ridden on each given day."
   ]
  },
  {
   "cell_type": "markdown",
   "id": "2a3c7d79-2f11-4080-8d6b-b5876a02dafd",
   "metadata": {},
   "source": [
    "Suggested Google search or ChatGPT prompt: \n",
    "I first tried: \"How do I use groupby to find the mean over each day in my DataFrame?\" but Google didn't help me.\n",
    "\n",
    "Then I tried: \"How do I find the mean over each date in a dataframe?\"  Sometimes, you have to try multiple searches.\n",
    "\n",
    "This gives me a very helpful site, where someone is doing the same thing we are:\n",
    "\n",
    "https://stackoverflow.com/questions/40788530/how-to-calculate-mean-of-some-rows-for-each-given-date-in-a-dataframe"
   ]
  },
  {
   "cell_type": "code",
   "execution_count": null,
   "id": "9d09bb2c-a2f1-4b7f-96bd-ce5071654864",
   "metadata": {},
   "outputs": [],
   "source": []
  },
  {
   "cell_type": "markdown",
   "id": "136a4271-922a-4f2b-9495-8eb6112701bb",
   "metadata": {},
   "source": [
    "3. Find the standard deviation and variance of the count for each ride.\n",
    "\n",
    "Suggested Google search or ChatGPT prompt: \"How do I find the standard deviation of a Series in pandas documentation?\" and similar query for variance.\n",
    "\n",
    "I included the word \"documentation\" because this task likely involves applying one single function for standard deviation and another for variance, so I expected that I could find a single documentation page for each that would cover my needs.  I get these:\n",
    "\n",
    "https://pandas.pydata.org/pandas-docs/dev/reference/api/pandas.Series.var.html\n",
    "\n",
    "https://pandas.pydata.org/docs/reference/api/pandas.Series.std.html"
   ]
  },
  {
   "cell_type": "code",
   "execution_count": null,
   "id": "a407b40f-468f-4a5f-91d4-e2361ffc20d9",
   "metadata": {},
   "outputs": [],
   "source": []
  },
  {
   "cell_type": "markdown",
   "id": "c05f00b7-0ccc-42ea-a4da-6d5ff1fef4ae",
   "metadata": {},
   "source": [
    "4. Find the 90th percentile count for each ride.  That is, if the customers are ordered by their number of rides, and there are 100 customers, how many rides does the 90th person take?  There is a function in pandas that easily does this calculation.\n",
    "\n",
    "Suggested Google search or ChatGPT prompt: \"How do I find a percentile value for a Series in pandas documentation?\"\n",
    "\n",
    "This time, I will let you find the page!  Hint: it's not actually called the \"percentile\" function."
   ]
  },
  {
   "cell_type": "code",
   "execution_count": null,
   "id": "caeabcfa-a68e-4951-be11-46e36e83faa2",
   "metadata": {},
   "outputs": [],
   "source": []
  },
  {
   "cell_type": "markdown",
   "id": "b628a048-58fe-4162-9763-db1349a33d47",
   "metadata": {},
   "source": [
    "5. Plot a histogram of the ride count, using each day as data element as you did in #2.  Use both the total ride count for each day as well as, separately, the mean ride count for each day.\n",
    "\n",
    "Suggested Google search or ChatGPT prompt: \"How do I plot a histogram for a Series in pandas?\"\n",
    "\n",
    "I found this: https://pandas.pydata.org/docs/reference/api/pandas.Series.plot.hist.html\n",
    "\n",
    "Note: the \"by\" keyword will not help you plot a count for each day; if you try to use it for this, it will try to draw a separate histogram for each day.\n",
    "\n",
    "You've already learned how to find the mean ride count for each day.  Can you use a similar idea to find the total ride count for each day?"
   ]
  },
  {
   "cell_type": "code",
   "execution_count": null,
   "id": "1cc2b321-a982-49e5-af3a-0d1414cce823",
   "metadata": {},
   "outputs": [],
   "source": []
  },
  {
   "cell_type": "markdown",
   "id": "5f1bc078-f570-4747-86b6-4979af98ddab",
   "metadata": {},
   "source": [
    "6. Make a bar chart showing the total number of Adult and Child participants.\n",
    "\n",
    "Try to formulate your own Google search or ChatGPT prompt.\n",
    "\n",
    "Here's one page I found:\n",
    "\n",
    "https://matplotlib.org/stable/api/_as_gen/matplotlib.pyplot.bar.html\n",
    "\n",
    "which shows some interesting examples for you to use.  I recommend clicking on the first, basic example to see how to use the function.\n",
    "\n",
    "You can also look up the pandas documentation, which might lead to an entirely different method."
   ]
  },
  {
   "cell_type": "code",
   "execution_count": null,
   "id": "4a4e6d49-3065-4510-ae62-bc34d7254b5b",
   "metadata": {},
   "outputs": [],
   "source": []
  },
  {
   "cell_type": "markdown",
   "id": "5e1657a7-b2f4-4e0c-a019-96f6a0a49390",
   "metadata": {},
   "source": [
    "7. Make a stacked bar chart showing how many Adult and Child visits took the River Ride, with the x-axis showing the number of rides and with two stacked bars (adult, child).  That is, there could be a column for the number of Adults (and Children) who took 0 rides, 1 ride, 2 rides, and so on.\n",
    "\n",
    "Try to formulate your own Google search or ChatGPT prompt.\n",
    "\n",
    "For me, the pandas documentation was easier than the matplotlib documentation.\n",
    "\n",
    "* If you use the pandas method, you might have to one-hot encode the IsAdult column.  You might want names for the new columns other than True and False.  Use df.join or pd.concat to attach the pd.get_dummies table you've created, and then groupby the RiverRide value.\n",
    "\n",
    "* You will need to end up with a small table with two columns (IsAdult True and False) and an index (RiverRide) as well as a small number of rows (the values of RiverRide)\n",
    "\n",
    "* That said, if you can come up with another approach, it's fine."
   ]
  },
  {
   "cell_type": "markdown",
   "id": "81685e12-982a-45f8-a8fe-0241448cf10d",
   "metadata": {},
   "source": [
    "8. Other tasks\n",
    "\n",
    "Use seaborn (import seaborn as sns) to create a kernel density estimation (kde) plot.  Here is a tutorial you can read about seaborn:\n",
    "\n",
    "https://seaborn.pydata.org/tutorial/introduction.html\n",
    "\n",
    "Seaborn often makes nicer looking graphs than pandas or matplotlib.\n",
    "\n",
    "Now use seaborn to make a swarm plot, a violin plot, and a box plot.\n",
    "\n",
    "Which plots are the best for showing this data?"
   ]
  },
  {
   "cell_type": "markdown",
   "id": "0cbb5ee5-7cc5-4647-8f17-d9d30ce3c9f4",
   "metadata": {},
   "source": [
    "# 4. Storytelling With Data graph\n",
    "\n",
    "Try to make a scatterplot using amusement park dataset that is similar to the one on page 45, where the two axes are the Teacup Ride count and the River Ride count.  If you want to see individual dots and not a dense swarm of dots, you'll have to cut the dataset down to a small number of points (say, 100 points or so).  You can remove the other points, for instance, and focus on the first 100 points.\n",
    "\n",
    "Here are some things you could do (you don't have to do all of them):\n",
    "\n",
    "* Draw a dashed line that roughly separates the adult from child points.\n",
    "\n",
    "* Draw the points in the adult vs. child region of the graph in different colors.\n",
    "\n",
    "* Choose the right size and number of dots to make the graph look good.\n",
    "\n",
    "* Write a word that appears on the dashed line (like AVG in the plot on page 45).\n",
    "\n",
    "If there are any other graphs in the Storytelling With Data chapter that look interesting, and you want more practice, you can try to reproduce them too."
   ]
  },
  {
   "cell_type": "code",
   "execution_count": null,
   "id": "33d5f349-b7e8-4730-a6da-114d6dc13eca",
   "metadata": {},
   "outputs": [],
   "source": []
  }
 ],
 "metadata": {
  "kernelspec": {
   "display_name": "Python 3 (ipykernel)",
   "language": "python",
   "name": "python3"
  },
  "language_info": {
   "codemirror_mode": {
    "name": "ipython",
    "version": 3
   },
   "file_extension": ".py",
   "mimetype": "text/x-python",
   "name": "python",
   "nbconvert_exporter": "python",
   "pygments_lexer": "ipython3",
   "version": "3.12.0"
  }
 },
 "nbformat": 4,
 "nbformat_minor": 5
}
=======
{
 "cells": [
  {
   "cell_type": "markdown",
   "id": "e20d972b-a9e2-4aa1-a268-749d7722771d",
   "metadata": {},
   "source": [
    "# Week 3 - Univariate Analysis\n",
    "\n",
    "## Please run the cells of the notebook as you get to them while reading"
   ]
  },
  {
   "cell_type": "code",
   "execution_count": 35,
=======
   "execution_count": 4,
>>>>>>> a088c1d802437508d6214faa207c5e88f39160ee
   "id": "81e466f2-afc8-4d96-b87c-bf77d255efb0",
   "metadata": {},
   "outputs": [],
   "source": [
    "import pandas as pd\n",
    "import numpy as np\n",
    "from datetime import datetime, timedelta"
   ]
  },
  {
   "cell_type": "markdown",
   "id": "75d63dbc-c416-4795-b467-2aac90e94936",
   "metadata": {},
   "source": [
    "# 1. Lesson: Bar charts and univariate graphs"
   ]
  },
  {
   "cell_type": "markdown",
   "id": "6ddb2ef8-8dd7-4a31-b4f7-2bda4f8a2dc6",
   "metadata": {},
   "source": [
    "Let's make a dataset (in this case, just a series) which is weighted to have more small values than large values.  By squaring a random number between 0 and 1, we ensure that half (those whose initial value is below 0.5) are below 0.25, while the other half are between 0.25 and 1.  This means that most of the values are small, and it's more interesting than analyzing a perfectly uniform dataset.  This kind of trick - transforming one random variable to get another - can generate a variety of random datasets for you.  We then multiply by 100 to get a number between 0 and 100."
   ]
  },
  {
   "cell_type": "code",
   "execution_count": 5,
   "id": "96652a58-79ae-40f4-b67c-b8a0a55013f2",
   "metadata": {},
   "outputs": [
    {
     "data": {
      "text/plain": [
       "array([30.12, 51.15, 36.33, 29.69, 17.95, 41.72, 19.15, 79.53, 92.86,\n",
       "       14.7 ])"
      ]
     },
     "execution_count": 5,
     "metadata": {},
     "output_type": "execute_result"
    }
   ],
   "source": [
    "np.random.seed(0)\n",
    "lesson_series = np.round(np.random.random(size = 1000)**2 * 100, 2)\n",
    "lesson_series[0:10] # check the first ten values.  Are they mostly on the small side?"
   ]
  },
  {
   "cell_type": "code",
   "execution_count": 6,
   "id": "0d606a71-e00b-47ee-bafb-7fc7bf8ca10d",
   "metadata": {},
   "outputs": [],
   "source": [
    "import seaborn as sns"
   ]
  },
  {
   "cell_type": "markdown",
   "id": "5f508c3c-5912-405d-8013-2fac1ed17e47",
   "metadata": {},
   "source": [
    "In the plot below, you can see a histogram of the values in the series.  For some reason, it decided to have exactly 11 bins (we allowed it to choose the number of bins.)  Most values - about 300 of them - are between 0 and 9, and the next most likely bin is between 9 and 18.  Since there are 1000 values, the total of the bars should be 1000."
   ]
  },
  {
   "cell_type": "code",
   "execution_count": 7,
   "id": "0688a654-867b-4e35-9472-0374cd0e1969",
   "metadata": {},
   "outputs": [
    {
     "data": {
      "text/plain": [
       "<Axes: ylabel='Count'>"
      ]
     },
     "execution_count": 7,
     "metadata": {},
     "output_type": "execute_result"
    },
    {
     "data": {
      "image/png": "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",
      "text/plain": [
       "<Figure size 640x480 with 1 Axes>"
      ]
     },
     "metadata": {},
     "output_type": "display_data"
    }
   ],
   "source": [
    "sns.histplot(lesson_series)"
   ]
  },
  {
   "cell_type": "markdown",
   "id": "a1532003-348e-4699-bcd3-ae9120a8d6ff",
   "metadata": {},
   "source": [
    "There are 11 bins or bars, a number which by default is chosen by seaborn.  We can reproduce this manually to (hopefully) see the same values as numbers. I'm not sure that this second histogram is guaranteed to be exactly the same, but it looks the same to me:"
   ]
  },
  {
   "cell_type": "code",
   "execution_count": 8,
   "id": "37878705-00db-4fc0-80a1-b458f39795a5",
   "metadata": {},
   "outputs": [
    {
     "data": {
      "text/plain": [
       "array([309, 137,  96,  71,  64,  74,  42,  42,  62,  51,  52])"
      ]
     },
     "execution_count": 8,
     "metadata": {},
     "output_type": "execute_result"
    }
   ],
   "source": [
    "np.histogram(lesson_series, bins = 11)[0]"
   ]
  },
  {
   "cell_type": "markdown",
   "id": "5ca689a6-8356-4365-b915-497ea87f27f2",
   "metadata": {},
   "source": [
    "What happens if we override seaborn and choose the number of bins ourselves?  We could choose a much larger number of bins:"
   ]
  },
  {
   "cell_type": "code",
   "execution_count": 9,
   "id": "7aa9bfd8-7098-4c3d-89e4-28cd1523f1bd",
   "metadata": {},
   "outputs": [
    {
     "data": {
      "text/plain": [
       "<Axes: ylabel='Count'>"
      ]
     },
     "execution_count": 9,
     "metadata": {},
     "output_type": "execute_result"
    },
    {
     "data": {
      "image/png": "iVBORw0KGgoAAAANSUhEUgAAAjsAAAGdCAYAAAD0e7I1AAAAOXRFWHRTb2Z0d2FyZQBNYXRwbG90bGliIHZlcnNpb24zLjkuMywgaHR0cHM6Ly9tYXRwbG90bGliLm9yZy/GU6VOAAAACXBIWXMAAA9hAAAPYQGoP6dpAAAoOUlEQVR4nO3df3TU1Z3/8deEhCQKmZAoM0lNJLpUfohICcQAZ1cly8+lsLLt4olsSlmoNuFX9vgji8FixahrkUJTWDwV8CyULedIqpw2FoOCHEOAIFoQEY5UcoBJ3KbJEJAQM/f7R0/n2ykEQjLJzNw8H+d8zmHuvfPhPRclL+7nfj7jMMYYAQAAWCoq1AUAAAB0JcIOAACwGmEHAABYjbADAACsRtgBAABWI+wAAACrEXYAAIDVCDsAAMBq0aEuIBz4fD6dPXtWffv2lcPhCHU5AACgHYwxOn/+vFJTUxUV1fb6DWFH0tmzZ5WWlhbqMgAAQAfU1NTotttua7OfsCOpb9++kv48WQkJCSGuBgAAtIfX61VaWpr/53hbCDuS/9JVQkICYQcAgAhzvS0obFAGAABWI+wAAACrEXYAAIDVCDsAAMBqhB0AAGA1wg4AALAaYQcAAFiNsAMAAKxG2AEAAFYj7AAAAKsRdgAAgNUIOwAAwGqEHQAAYDXCDgAAsFp0qAuw3dB77tW5c+euOSYlJUVHPz7cPQUBANDDEHa62Llz5zRhRdk1x/xu6YxuqQUAgJ6Iy1gAAMBqhB0AAGA1wg4AALAaYQcAAFiNsAMAAKxG2AEAAFYLadjZs2ePpk2bptTUVDkcDpWVlbU59tFHH5XD4dCqVasC2uvr65Wbm6uEhAQlJiZq7ty5ampq6trCAQBAxAhp2Llw4YKGDx+u0tLSa47bvn279u3bp9TU1Cv6cnNzdfToUe3cuVM7duzQnj17NH/+/K4qGQAARJiQPlRw8uTJmjx58jXHnDlzRgsWLNDbb7+tqVOnBvQdO3ZM5eXlOnDggDIzMyVJa9as0ZQpU/Tyyy9fNRwBAICeJaz37Ph8Ps2ePVuPP/64hg4dekV/ZWWlEhMT/UFHknJychQVFaWqqqo2z9vc3Cyv1xtwAAAAO4V12HnxxRcVHR2thQsXXrXf4/Gof//+AW3R0dFKSkqSx+Np87wlJSVyOp3+Iy0tLah1AwCA8BG2Yae6ulo//elPtXHjRjkcjqCeu6ioSI2Njf6jpqYmqOcHAADhI2zDzvvvv6+6ujqlp6crOjpa0dHR+uKLL/Qf//EfGjBggCTJ7Xarrq4u4H1ff/216uvr5Xa72zx3bGysEhISAg4AAGCnsP3W89mzZysnJyegbeLEiZo9e7bmzJkjScrOzlZDQ4Oqq6s1cuRISdKuXbvk8/mUlZXV7TUDAIDwE9Kw09TUpJMnT/pfnzp1SocPH1ZSUpLS09OVnJwcMD4mJkZut1t33XWXJGnw4MGaNGmS5s2bp3Xr1qmlpUUFBQWaNWsWd2IBAABJIb6MdfDgQY0YMUIjRoyQJBUWFmrEiBFatmxZu8+xefNmDRo0SOPHj9eUKVM0btw4rV+/vqtKBgAAESakKzv333+/jDHtHv+HP/zhirakpCRt2bIliFUBAACbhO0GZQAAgGAg7AAAAKsRdgAAgNUIOwAAwGqEHQAAYDXCDgAAsBphBwAAWI2wAwAArEbYAQAAViPsAAAAqxF2AACA1Qg7AADAaoQdAABgNcIOAACwGmEHAABYjbADAACsRtgBAABWI+wAAACrEXYAAIDVCDsAAMBqhB0AAGA1wg4AALAaYQcAAFiNsAMAAKxG2AEAAFYj7AAAAKsRdgAAgNUIOwAAwGqEHQAAYDXCDgAAsBphBwAAWI2wAwAArEbYAQAAViPsAAAAqxF2AACA1Qg7AADAaoQdAABgNcIOAACwWkjDzp49ezRt2jSlpqbK4XCorKzM39fS0qInn3xSw4YN080336zU1FT927/9m86ePRtwjvr6euXm5iohIUGJiYmaO3eumpqauvmTAACAcBXSsHPhwgUNHz5cpaWlV/RdvHhRhw4dUnFxsQ4dOqQ33nhDx48f17e//e2Acbm5uTp69Kh27typHTt2aM+ePZo/f353fQQAABDmokP5m0+ePFmTJ0++ap/T6dTOnTsD2n72s59p9OjROn36tNLT03Xs2DGVl5frwIEDyszMlCStWbNGU6ZM0csvv6zU1NQu/wwAACC8RdSencbGRjkcDiUmJkqSKisrlZiY6A86kpSTk6OoqChVVVW1eZ7m5mZ5vd6AAwAA2Cliws6lS5f05JNP6uGHH1ZCQoIkyePxqH///gHjoqOjlZSUJI/H0+a5SkpK5HQ6/UdaWlqX1g4AAEInIsJOS0uLvvvd78oYo7Vr13b6fEVFRWpsbPQfNTU1QagSAACEo5Du2WmPvwSdL774Qrt27fKv6kiS2+1WXV1dwPivv/5a9fX1crvdbZ4zNjZWsbGxXVYzAAAIH2G9svOXoHPixAm98847Sk5ODujPzs5WQ0ODqqur/W27du2Sz+dTVlZWd5cLAADCUEhXdpqamnTy5En/61OnTunw4cNKSkpSSkqK/uVf/kWHDh3Sjh071Nra6t+Hk5SUpN69e2vw4MGaNGmS5s2bp3Xr1qmlpUUFBQWaNWsWd2IBAABJIQ47Bw8e1AMPPOB/XVhYKEnKy8vTj370I7355puSpHvvvTfgfe+++67uv/9+SdLmzZtVUFCg8ePHKyoqSjNnztTq1au7pX4AABD+Qhp27r//fhlj2uy/Vt9fJCUlacuWLcEsCwAAWCSs9+wAAAB0FmEHAABYjbADAACsRtgBAABWI+wAAACrEXYAAIDVCDsAAMBqhB0AAGA1wg4AALAaYQcAAFiNsAMAAKxG2AEAAFYj7AAAAKsRdgAAgNUIOwAAwGqEHQAAYDXCDgAAsBphBwAAWI2wAwAArEbYAQAAViPsAAAAqxF2AACA1Qg7AADAaoQdAABgNcIOAACwGmEHAABYjbADAACsRtgBAABWI+wAAACrEXYAAIDVCDsAAMBqhB0AAGA1wg4AALAaYQcAAFiNsAMAAKxG2AEAAFYj7AAAAKuFNOzs2bNH06ZNU2pqqhwOh8rKygL6jTFatmyZUlJSFB8fr5ycHJ04cSJgTH19vXJzc5WQkKDExETNnTtXTU1N3fgpAABAOAtp2Llw4YKGDx+u0tLSq/a/9NJLWr16tdatW6eqqirdfPPNmjhxoi5duuQfk5ubq6NHj2rnzp3asWOH9uzZo/nz53fXRwAAAGEuOpS/+eTJkzV58uSr9hljtGrVKj399NOaPn26JOn111+Xy+VSWVmZZs2apWPHjqm8vFwHDhxQZmamJGnNmjWaMmWKXn75ZaWmpnbbZwEAAOEpbPfsnDp1Sh6PRzk5Of42p9OprKwsVVZWSpIqKyuVmJjoDzqSlJOTo6ioKFVVVXV7zQAAIPyEdGXnWjwejyTJ5XIFtLtcLn+fx+NR//79A/qjo6OVlJTkH3M1zc3Nam5u9r/2er3BKhsAAISZsF3Z6UolJSVyOp3+Iy0tLdQlAQCALhK2YcftdkuSamtrA9pra2v9fW63W3V1dQH9X3/9terr6/1jrqaoqEiNjY3+o6amJsjVAwCAcBG2YScjI0Nut1sVFRX+Nq/Xq6qqKmVnZ0uSsrOz1dDQoOrqav+YXbt2yefzKSsrq81zx8bGKiEhIeAAAAB2CumenaamJp08edL/+tSpUzp8+LCSkpKUnp6uxYsX67nnntPAgQOVkZGh4uJipaamasaMGZKkwYMHa9KkSZo3b57WrVunlpYWFRQUaNasWdyJBQAAJIU47Bw8eFAPPPCA/3VhYaEkKS8vTxs3btQTTzyhCxcuaP78+WpoaNC4ceNUXl6uuLg4/3s2b96sgoICjR8/XlFRUZo5c6ZWr17d7Z8FAACEJ4cxxoS6iFDzer1yOp1qbGwM+iWtpFtdmrCi7Jpjfrd0huq/rL3mGAAAEKi9P7/Dds8OAABAMBB2AACA1Qg7AADAaoQdAABgNcIOAACwGmEHAABYjbADAACsRtgBAABWI+wAAACrEXYAAIDVCDsAAMBqhB0AAGA1wg4AALAaYQcAAFiNsAMAAKxG2AEAAFYj7AAAAKsRdgAAgNUIOwAAwGqEHQAAYDXCDgAAsBphBwAAWI2wAwAArEbYAQAAViPsAAAAqxF2AACA1Qg7AADAaoQdAABgNcIOAACwGmEHAABYjbADAACsRtgBAABWI+wAAACrdSjs3HHHHfrjH/94RXtDQ4PuuOOOThcFAAAQLB0KO3/4wx/U2tp6RXtzc7POnDnT6aIAAACCJfpGBr/55pv+X7/99ttyOp3+162traqoqNCAAQOCVhwAAEBn3VDYmTFjhiTJ4XAoLy8voC8mJkYDBgzQT37yk6AVBwAA0Fk3FHZ8Pp8kKSMjQwcOHNAtt9zSJUUBAAAES4f27Jw6dapbgk5ra6uKi4uVkZGh+Ph43Xnnnfrxj38sY4x/jDFGy5YtU0pKiuLj45WTk6MTJ050eW0AACAy3NDKzl+rqKhQRUWF6urq/Cs+f/Haa691ujBJevHFF7V27Vpt2rRJQ4cO1cGDBzVnzhw5nU4tXLhQkvTSSy9p9erV2rRpkzIyMlRcXKyJEyfqk08+UVxcXFDqAAAAkatDYWf58uV69tlnlZmZqZSUFDkcjmDXJUn64IMPNH36dE2dOlWSNGDAAP3yl7/U/v37Jf15VWfVqlV6+umnNX36dEnS66+/LpfLpbKyMs2aNatL6gIAAJGjQ2Fn3bp12rhxo2bPnh3segKMGTNG69ev12effaZvfvOb+uijj7R3716tXLlS0p8vp3k8HuXk5Pjf43Q6lZWVpcrKyjbDTnNzs5qbm/2vvV5vl34OAAAQOh0KO5cvX9aYMWOCXcsVnnrqKXm9Xg0aNEi9evVSa2urVqxYodzcXEmSx+ORJLlcroD3uVwuf9/VlJSUaPny5V1XOAAACBsd2qD87//+79qyZUuwa7nCr371K23evFlbtmzRoUOHtGnTJr388svatGlTp85bVFSkxsZG/1FTUxOkigEAQLjp0MrOpUuXtH79er3zzju65557FBMTE9D/l8tMnfX444/rqaee8l+OGjZsmL744guVlJQoLy9PbrdbklRbW6uUlBT/+2pra3Xvvfe2ed7Y2FjFxsYGpUYAABDeOhR2Pv74Y3+YOHLkSEBfMDcrX7x4UVFRgYtPvXr1Cnjej9vtVkVFhb8er9erqqoqPfbYY0GrAwAARK4OhZ1333032HVc1bRp07RixQqlp6dr6NCh+vDDD7Vy5Up9//vfl/TnYLV48WI999xzGjhwoP/W89TUVP/TngEAQM/W4efsdIc1a9aouLhYP/zhD1VXV6fU1FT94Ac/0LJly/xjnnjiCV24cEHz589XQ0ODxo0bp/Lycp6xAwAAJEkO89ePI26nBx544JqXq3bt2tWporqb1+uV0+lUY2OjEhISgnrupFtdmrCi7Jpjfrd0huq/rA3q7wsAgO3a+/O7Qys7f7v5t6WlRYcPH9aRI0eu+IJQAACAUOpQ2HnllVeu2v6jH/1ITU1NnSoIAAAgmDr0nJ22PPLII0H7XiwAAIBgCGrYqaysZGMwAAAIKx26jPXQQw8FvDbG6Ny5czp48KCKi4uDUhgAAEAwdCjsOJ3OgNdRUVG666679Oyzz2rChAlBKQwAACAYOhR2NmzYEOw6AAAAukSnHipYXV2tY8eOSZKGDh2qESNGBKUoAACAYOlQ2Kmrq9OsWbP03nvvKTExUZLU0NCgBx54QFu3btWtt94azBoBAAA6rEN3Yy1YsEDnz5/X0aNHVV9fr/r6eh05ckRer1cLFy4Mdo0AAAAd1qGVnfLycr3zzjsaPHiwv23IkCEqLS1lgzIAAAgrHVrZ8fl8iomJuaI9JiZGPp+v00UBAAAES4fCzoMPPqhFixbp7Nmz/rYzZ85oyZIlGj9+fNCKAwAA6KwOhZ2f/exn8nq9GjBggO68807deeedysjIkNfr1Zo1a4JdIwAAQId1aM9OWlqaDh06pHfeeUeffvqpJGnw4MHKyckJanEAAACddUMrO7t27dKQIUPk9XrlcDj0j//4j1qwYIEWLFigUaNGaejQoXr//fe7qlYAAIAbdkNhZ9WqVZo3b54SEhKu6HM6nfrBD36glStXBq04AACAzrqhsPPRRx9p0qRJbfZPmDBB1dXVnS4KAAAgWG4o7NTW1l71lvO/iI6O1pdfftnpogAAAILlhsLON77xDR05cqTN/o8//lgpKSmdLgoAACBYbijsTJkyRcXFxbp06dIVfV999ZWeeeYZ/dM//VPQigMAAOisG7r1/Omnn9Ybb7yhb37zmyooKNBdd90lSfr0009VWlqq1tZWLV26tEsKBQAA6IgbCjsul0sffPCBHnvsMRUVFckYI0lyOByaOHGiSktL5XK5uqRQAACAjrjhhwrefvvt+s1vfqM//elPOnnypIwxGjhwoPr169cV9QEAAHRKh56gLEn9+vXTqFGjglkLAABA0HXou7EAAAAiBWEHAABYjbADAACsRtgBAABWI+wAAACrEXYAAIDVCDsAAMBqhB0AAGA1wg4AALAaYQcAAFiNsAMAAKxG2AEAAFYL+7Bz5swZPfLII0pOTlZ8fLyGDRumgwcP+vuNMVq2bJlSUlIUHx+vnJwcnThxIoQVAwCAcBLWYedPf/qTxo4dq5iYGP32t7/VJ598op/85Cfq16+ff8xLL72k1atXa926daqqqtLNN9+siRMn6tKlSyGsHAAAhIvoUBdwLS+++KLS0tK0YcMGf1tGRob/18YYrVq1Sk8//bSmT58uSXr99dflcrlUVlamWbNmdXvNAAAgvIT1ys6bb76pzMxMfec731H//v01YsQIvfrqq/7+U6dOyePxKCcnx9/mdDqVlZWlysrKUJQMAADCTFiHnc8//1xr167VwIED9fbbb+uxxx7TwoULtWnTJkmSx+ORJLlcroD3uVwuf9/VNDc3y+v1BhwAAMBOYX0Zy+fzKTMzU88//7wkacSIETpy5IjWrVunvLy8Dp+3pKREy5cvD1aZAAAgjIX1yk5KSoqGDBkS0DZ48GCdPn1akuR2uyVJtbW1AWNqa2v9fVdTVFSkxsZG/1FTUxPkygEAQLgI67AzduxYHT9+PKDts88+0+233y7pz5uV3W63Kioq/P1er1dVVVXKzs5u87yxsbFKSEgIOAAAgJ3C+jLWkiVLNGbMGD3//PP67ne/q/3792v9+vVav369JMnhcGjx4sV67rnnNHDgQGVkZKi4uFipqamaMWNGaIsHAABhIazDzqhRo7R9+3YVFRXp2WefVUZGhlatWqXc3Fz/mCeeeEIXLlzQ/Pnz1dDQoHHjxqm8vFxxcXEhrBwAAIQLhzHGhLqIUPN6vXI6nWpsbAz6Ja2kW12asKLsmmN+t3SG6r+sveYYAAAQqL0/v8N6zw4AAEBnEXYAAIDVCDsAAMBqhB0AAGA1wg4AALAaYQcAAFiNsAMAAKxG2AEAAFYL6yco9xTe801KutV1zTEpKSk6+vHh7ikIAACLEHbCgPH52vWUZQAAcOO4jAUAAKxG2AEAAFYj7AAAAKsRdgAAgNUIOwAAwGqEHQAAYDXCDgAAsBphBwAAWI2wAwAArEbYAQAAViPsAAAAqxF2AACA1Qg7AADAaoQdAABgNcIOAACwGmEHAABYjbADAACsRtgBAABWiw51AWgf7/kmJd3quuaYlJQUHf34cPcUBABAhCDsRAjj82nCirJrjvnd0hndUgsAAJGEy1gAAMBqhB0AAGA1wg4AALAaYQcAAFiNsAMAAKxG2AEAAFYj7AAAAKsRdgAAgNUiKuy88MILcjgcWrx4sb/t0qVLys/PV3Jysvr06aOZM2eqtrY2dEUCAICwEjFh58CBA/rv//5v3XPPPQHtS5Ys0VtvvaVt27Zp9+7dOnv2rB566KEQVQkAAMJNRISdpqYm5ebm6tVXX1W/fv387Y2NjfrFL36hlStX6sEHH9TIkSO1YcMGffDBB9q3b18IKwYAAOEiIsJOfn6+pk6dqpycnID26upqtbS0BLQPGjRI6enpqqysbPN8zc3N8nq9AQcAALBT2H8R6NatW3Xo0CEdOHDgij6Px6PevXsrMTExoN3lcsnj8bR5zpKSEi1fvjzYpYYc34wOAMCVwjrs1NTUaNGiRdq5c6fi4uKCdt6ioiIVFhb6X3u9XqWlpQXt/KHCN6MDAHClsL6MVV1drbq6On3rW99SdHS0oqOjtXv3bq1evVrR0dFyuVy6fPmyGhoaAt5XW1srt9vd5nljY2OVkJAQcAAAADuF9crO+PHj9fvf/z6gbc6cORo0aJCefPJJpaWlKSYmRhUVFZo5c6Yk6fjx4zp9+rSys7NDUTIAAAgzYR12+vbtq7vvvjug7eabb1ZycrK/fe7cuSosLFRSUpISEhK0YMECZWdn67777gtFyQAAIMyEddhpj1deeUVRUVGaOXOmmpubNXHiRP385z8PdVkAACBMRFzYee+99wJex8XFqbS0VKWlpaEpCAAAhLWICzvoHG5PBwD0NISdHobb0wEAPU1Y33oOAADQWYQdAABgNcIOAACwGmEHAABYjbADAACsRtgBAABWI+wAAACrEXYAAIDVeKggrtCepyxf/OqSboqPu+YYnsQMAAgHhB1coT1PWd5W8KAmrCy/5hiexAwACAdcxgIAAFYj7AAAAKsRdgAAgNUIOwAAwGqEHQAAYDXCDgAAsBphBwAAWI2wAwAArEbYAQAAViPsAAAAq/F1EQipoffcq3Pnzl1zDN+xBQDoDMIOQurcuXPX/R4uvmMLANAZXMYCAABWY2UHXcZ7vklJt7quM+Z8N1UDAOipCDvoMsbnu+4lqm0FD3ZPMQCAHouwA9wgNlUDQGQh7AA3iE3VABBZ2KAMAACsxsoOwl57Njpz2QgA0BbCDsJeezY6c9kIANAWwg6swOoPAKAthB1YgdUfAEBb2KAMAACsRtgBAABWI+wAAACrEXYAAIDVwjrslJSUaNSoUerbt6/69++vGTNm6Pjx4wFjLl26pPz8fCUnJ6tPnz6aOXOmamtrQ1QxAAAIN2Eddnbv3q38/Hzt27dPO3fuVEtLiyZMmKALFy74xyxZskRvvfWWtm3bpt27d+vs2bN66KGHQlg1AAAIJ2F963l5eXnA640bN6p///6qrq7W3//936uxsVG/+MUvtGXLFj344J+/PXvDhg0aPHiw9u3bp/vuuy8UZQMAgDAS1is7f6uxsVGSlJSUJEmqrq5WS0uLcnJy/GMGDRqk9PR0VVZWtnme5uZmeb3egAMAANgprFd2/prP59PixYs1duxY3X333ZIkj8ej3r17KzExMWCsy+WSx+Np81wlJSVavnx5V5YLBMXQe+7VuXPnrjuOp0MDQNsiJuzk5+fryJEj2rt3b6fPVVRUpMLCQv9rr9ertLS0Tp8XCLZz585d98nQEk+HBoBriYiwU1BQoB07dmjPnj267bbb/O1ut1uXL19WQ0NDwOpObW2t3G53m+eLjY1VbGxsV5YMoJu0Z/WrPStfwToPugd/XrgRYR12jDFasGCBtm/frvfee08ZGRkB/SNHjlRMTIwqKio0c+ZMSdLx48d1+vRpZWdnh6JkAN2sPatf7Vn5CtZ50D3488KNCOuwk5+fry1btujXv/61+vbt69+H43Q6FR8fL6fTqblz56qwsFBJSUlKSEjQggULlJ2dzZ1YAABAUpiHnbVr10qS7r///oD2DRs26Hvf+54k6ZVXXlFUVJRmzpyp5uZmTZw4UT//+c+7uVIAABCuwjrsGGOuOyYuLk6lpaUqLS3thooAAECkCeuwA3S39mx69J4/303VdD82fQKwEWEH+Cvt2fS4reDB7ikmBNj0CcBGhB30GN7zTUq61XWdMZG5atOez8aKDNBzsEobiLCDHsP4fNau2rTns7EiA/QcrNIGiqjvxgIAALhRrOwAPYTNl/GAjuJyT89A2AF6CJsv4wEdxeWenoGwA+CGdOdm6J7+KIDuEm6rG5H45x5uc4hAhB0AN6Q7N0P39EcBdJdwW92IxD/3cJtDBGKDMgAAsBorO0AX4Lk31xeJlyoAm/Skv6cIO0AX4Lk31xeJlyoAm/Skv6cIOwCCLtxucw9WPT3pX8IIjfaseF786pJuio+75hhWRQMRdgAEXbjd5h6senrSv4QRGu1d8Zywsvy6Y/D/sUEZAABYjZUdAOhmwXomC892iSzhdnm3JyHsAEA3C9YzWXi2S2QJt8u7PQlhBwgR/pWHnohHDiAUCDtAiPCvPPREPHIAoUDYAYAg6s7b3FkBQVdrz3+H7bkVPtR7xwg7ABBE3XmbOysg6Grt/e/werfCh3rvGLeeAwAAq7GyAwAICjYfI1wRdgAAQcHmY4Qrwg4AWKwnb5iOxJrRNQg7AGCxnrxhOhJrRtdggzIAALAaKzsAAFwDl8MiH2EHAIBr4HJY5OMyFgAAsBphBwAAWI2wAwAArEbYAQAAViPsAAAAqxF2AACA1Qg7AADAaoQdAABgNWvCTmlpqQYMGKC4uDhlZWVp//79oS4JAACEASvCzv/+7/+qsLBQzzzzjA4dOqThw4dr4sSJqqurC3VpAAAgxKwIOytXrtS8efM0Z84cDRkyROvWrdNNN92k1157LdSlAQCAEIv478a6fPmyqqurVVRU5G+LiopSTk6OKisrr/qe5uZmNTc3+183NjZKkrxeb9DrMz6fWr66cO0xxjCGMR0eE441MYYxjGFMwBifr0t+xv7lnMaYaw80Ee7MmTNGkvnggw8C2h9//HEzevToq77nmWeeMZI4ODg4ODg4LDhqamqumRUifmWnI4qKilRYWOh/7fP5VF9fr+TkZDkcjqD9Pl6vV2lpaaqpqVFCQkLQzotAzHP3Ya67B/PcPZjn7tGV82yM0fnz55WamnrNcREfdm655Rb16tVLtbW1Ae21tbVyu91XfU9sbKxiY2MD2hITE7uqRCUkJPA/UjdgnrsPc909mOfuwTx3j66aZ6fTed0xEb9BuXfv3ho5cqQqKir8bT6fTxUVFcrOzg5hZQAAIBxE/MqOJBUWFiovL0+ZmZkaPXq0Vq1apQsXLmjOnDmhLg0AAISYFWHnX//1X/Xll19q2bJl8ng8uvfee1VeXi6XyxXSumJjY/XMM89ccckMwcU8dx/munswz92Dee4e4TDPDmOud78WAABA5Ir4PTsAAADXQtgBAABWI+wAAACrEXYAAIDVCDtdqLS0VAMGDFBcXJyysrK0f//+UJcU0UpKSjRq1Cj17dtX/fv314wZM3T8+PGAMZcuXVJ+fr6Sk5PVp08fzZw584oHTuLGvPDCC3I4HFq8eLG/jXkOjjNnzuiRRx5RcnKy4uPjNWzYMB08eNDfb4zRsmXLlJKSovj4eOXk5OjEiRMhrDjytLa2qri4WBkZGYqPj9edd96pH//4xwHfpcQ8d8yePXs0bdo0paamyuFwqKysLKC/PfNaX1+v3NxcJSQkKDExUXPnzlVTU1Pwi+38t1PharZu3Wp69+5tXnvtNXP06FEzb948k5iYaGpra0NdWsSaOHGi2bBhgzly5Ig5fPiwmTJliklPTzdNTU3+MY8++qhJS0szFRUV5uDBg+a+++4zY8aMCWHVkW3//v1mwIAB5p577jGLFi3ytzPPnVdfX29uv/12873vfc9UVVWZzz//3Lz99tvm5MmT/jEvvPCCcTqdpqyszHz00Ufm29/+tsnIyDBfffVVCCuPLCtWrDDJyclmx44d5tSpU2bbtm2mT58+5qc//al/DPPcMb/5zW/M0qVLzRtvvGEkme3btwf0t2deJ02aZIYPH2727dtn3n//ffN3f/d35uGHHw56rYSdLjJ69GiTn5/vf93a2mpSU1NNSUlJCKuyS11dnZFkdu/ebYwxpqGhwcTExJht27b5xxw7dsxIMpWVlaEqM2KdP3/eDBw40OzcudP8wz/8gz/sMM/B8eSTT5px48a12e/z+Yzb7Tb/9V//5W9raGgwsbGx5pe//GV3lGiFqVOnmu9///sBbQ899JDJzc01xjDPwfK3Yac98/rJJ58YSebAgQP+Mb/97W+Nw+EwZ86cCWp9XMbqApcvX1Z1dbVycnL8bVFRUcrJyVFlZWUIK7NLY2OjJCkpKUmSVF1drZaWloB5HzRokNLT05n3DsjPz9fUqVMD5lNinoPlzTffVGZmpr7zne+of//+GjFihF599VV//6lTp+TxeALm2el0Kisri3m+AWPGjFFFRYU+++wzSdJHH32kvXv3avLkyZKY567SnnmtrKxUYmKiMjMz/WNycnIUFRWlqqqqoNZjxROUw83//d//qbW19YonOLtcLn366achqsouPp9Pixcv1tixY3X33XdLkjwej3r37n3Fl7q6XC55PJ4QVBm5tm7dqkOHDunAgQNX9DHPwfH5559r7dq1Kiws1H/+53/qwIEDWrhwoXr37q28vDz/XF7t7xHmuf2eeuopeb1eDRo0SL169VJra6tWrFih3NxcSWKeu0h75tXj8ah///4B/dHR0UpKSgr63BN2EJHy8/N15MgR7d27N9SlWKempkaLFi3Szp07FRcXF+pyrOXz+ZSZmannn39ekjRixAgdOXJE69atU15eXoirs8evfvUrbd68WVu2bNHQoUN1+PBhLV68WKmpqcxzD8JlrC5wyy23qFevXlfcnVJbWyu32x2iquxRUFCgHTt26N1339Vtt93mb3e73bp8+bIaGhoCxjPvN6a6ulp1dXX61re+pejoaEVHR2v37t1avXq1oqOj5XK5mOcgSElJ0ZAhQwLaBg8erNOnT0uSfy75e6RzHn/8cT311FOaNWuWhg0bptmzZ2vJkiUqKSmRxDx3lfbMq9vtVl1dXUD/119/rfr6+qDPPWGnC/Tu3VsjR45URUWFv83n86miokLZ2dkhrCyyGWNUUFCg7du3a9euXcrIyAjoHzlypGJiYgLm/fjx4zp9+jTzfgPGjx+v3//+9zp8+LD/yMzMVG5urv/XzHPnjR079opHJ3z22We6/fbbJUkZGRlyu90B8+z1elVVVcU834CLFy8qKirwR12vXr3k8/kkMc9dpT3zmp2drYaGBlVXV/vH7Nq1Sz6fT1lZWcEtKKjbneG3detWExsbazZu3Gg++eQTM3/+fJOYmGg8Hk+oS4tYjz32mHE6nea9994z586d8x8XL170j3n00UdNenq62bVrlzl48KDJzs422dnZIazaDn99N5YxzHMw7N+/30RHR5sVK1aYEydOmM2bN5ubbrrJ/M///I9/zAsvvGASExPNr3/9a/Pxxx+b6dOnc0v0DcrLyzPf+MY3/Leev/HGG+aWW24xTzzxhH8M89wx58+fNx9++KH58MMPjSSzcuVK8+GHH5ovvvjCGNO+eZ00aZIZMWKEqaqqMnv37jUDBw7k1vNIs2bNGpOenm569+5tRo8ebfbt2xfqkiKapKseGzZs8I/56quvzA9/+EPTr18/c9NNN5l//ud/NufOnQtd0Zb427DDPAfHW2+9Ze6++24TGxtrBg0aZNavXx/Q7/P5THFxsXG5XCY2NtaMHz/eHD9+PETVRiav12sWLVpk0tPTTVxcnLnjjjvM0qVLTXNzs38M89wx77777lX/Ts7LyzPGtG9e//jHP5qHH37Y9OnTxyQkJJg5c+aY8+fPB71WhzF/9RhJAAAAy7BnBwAAWI2wAwAArEbYAQAAViPsAAAAqxF2AACA1Qg7AADAaoQdAABgNcIOAACwGmEHAABYjbADAACsRtgBAABWI+wAAACr/T+CgJPBv7/cGwAAAABJRU5ErkJggg==",
      "text/plain": [
       "<Figure size 640x480 with 1 Axes>"
      ]
     },
     "metadata": {},
     "output_type": "display_data"
    }
   ],
   "source": [
    "sns.histplot(lesson_series, bins = 50)"
   ]
  },
  {
   "cell_type": "markdown",
   "id": "6330f86d-d10c-4304-b68a-1a0f2e592d8b",
   "metadata": {},
   "source": [
    "One disadvantage of this 50 bin picture is that the outliers are worse.  That is, the graph wobbles up and down a bit more randomly.  That's because there are fewer values in each bin, so there's more of a role for chance to take effect.  If we had many more data points and/or fewer bins, we could get rid of this wobble."
   ]
  },
  {
   "cell_type": "code",
   "execution_count": 10,
   "id": "04cada4b-f3d9-4393-bd07-666a6c23c213",
   "metadata": {},
   "outputs": [
    {
     "data": {
      "text/plain": [
       "<Axes: ylabel='Count'>"
      ]
     },
     "execution_count": 10,
     "metadata": {},
     "output_type": "execute_result"
    },
    {
     "data": {
      "image/png": "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",
      "text/plain": [
       "<Figure size 640x480 with 1 Axes>"
      ]
     },
     "metadata": {},
     "output_type": "display_data"
    }
   ],
   "source": [
    "lesson_series_2 = np.round(np.random.random(size = 10000)**2 * 100, 2)\n",
    "sns.histplot(lesson_series_2, bins = 50)"
   ]
  },
  {
   "cell_type": "markdown",
   "id": "42aa1dd3-ffd2-4819-b60e-286416de06b6",
   "metadata": {},
   "source": [
    "Here you can see that because the number of bins is the same as in the second graph above, but for more data, the histogram is a smoother graph.  Why does more data make for a smoother graph?  Something for you to think about.  I said it's because a larger number of data points in each bin reduces the role of chance - but why is that?"
   ]
  },
  {
   "cell_type": "markdown",
   "id": "d6e2c2c0-1569-4555-942a-1bd83c60448a",
   "metadata": {},
   "source": [
    "Here is a KDE (Kernel Density Estimate) plot.  It's just the same histogram, but drawn smoothly.  The KDE plot doesn't have a \"number of bins.\"  It's always drawn the same way.  In this case, because of the smoothness of the curve, it seems that x-values less then zero and above 100 are still plotted, even though there were no such values in the dataset.  This seems like a drawback of the KDE plot, especially if the viewer is unprepared for this aspect of the plot."
   ]
  },
  {
   "cell_type": "code",
   "execution_count": 11,
   "id": "b97a0fb0-7de3-4e15-a8ec-1f25dd66d346",
   "metadata": {},
   "outputs": [
    {
     "data": {
      "text/plain": [
       "<Axes: ylabel='Density'>"
      ]
     },
     "execution_count": 11,
     "metadata": {},
     "output_type": "execute_result"
    },
    {
     "data": {
      "image/png": "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",
      "text/plain": [
       "<Figure size 640x480 with 1 Axes>"
      ]
     },
     "metadata": {},
     "output_type": "display_data"
    }
   ],
   "source": [
    "sns.kdeplot(lesson_series)"
   ]
  },
  {
   "cell_type": "markdown",
   "id": "8dabbb18-410d-4d8f-8d68-dde5775d98de",
   "metadata": {},
   "source": [
    "We could also draw a box plot.  This time, to construct the data I used a fourth power rather than squaring, with only 100 data points, so that the points are even more concentrated toward the small numbers.  It turns out that this will create a more interesting boxplot.  The top and bottom edges of the box are the 75th and 25th percentile, respectively, and the top and bottom \"whiskers\" show a larger range which is a multiple of 1.5 times the the box height.  (The bottom whisker cannot be see because it's pushed against the bottom of the graph.)  The filled-in box shows that half of the values are between about 0 and 30 on the y-axis.  Is that what you'd expect?  The 25th and 75th percentile of the original uniform random variable are at 0.25 and 0.75.  Taken to the fourth power and multiplied by 100 (remember, that's how we constructed our sample), that's 0.25\\*\\*4 * 100 = 0.4 and 0.75\\*\\*4 * 100 = 32.  It's plausible that those are the height of the bottom and top of the box.  We can see that a small number of samples are above the top whisker; they are shown as individual dots."
   ]
  },
  {
   "cell_type": "code",
   "execution_count": 12,
   "id": "463ce00d-95ef-4ac7-b827-419eef7c6a74",
   "metadata": {},
   "outputs": [
    {
     "data": {
      "text/plain": [
       "<Axes: >"
      ]
     },
     "execution_count": 12,
     "metadata": {},
     "output_type": "execute_result"
    },
    {
     "data": {
      "image/png": "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",
      "text/plain": [
       "<Figure size 640x480 with 1 Axes>"
      ]
     },
     "metadata": {},
     "output_type": "display_data"
    }
   ],
   "source": [
    "lesson_series_3 = np.round(np.random.random(size = 100)**4 * 100, 2)\n",
    "sns.boxplot(lesson_series_3)"
   ]
  },
  {
   "cell_type": "markdown",
   "id": "a7af6744-1401-47b2-baf9-f6e4ca7d039c",
   "metadata": {},
   "source": [
    "If we go back to the original lesson_series with the squared values, there will be two whiskers, because it isn't so strongly weighted toward small values:"
   ]
  },
  {
   "cell_type": "code",
   "execution_count": 13,
   "id": "6e978263-079f-49fc-9448-f41a9bac1482",
   "metadata": {},
   "outputs": [
    {
     "data": {
      "text/plain": [
       "<Axes: >"
      ]
     },
     "execution_count": 13,
     "metadata": {},
     "output_type": "execute_result"
    },
    {
     "data": {
      "image/png": "iVBORw0KGgoAAAANSUhEUgAAAigAAAGKCAYAAAAmMbr9AAAAOXRFWHRTb2Z0d2FyZQBNYXRwbG90bGliIHZlcnNpb24zLjkuMywgaHR0cHM6Ly9tYXRwbG90bGliLm9yZy/GU6VOAAAACXBIWXMAAA9hAAAPYQGoP6dpAAAXDklEQVR4nO3df4xcdf3v8dcuhd1au1OKYbYbd+teQ1PwFwhYFojXHxurEkKlUZvUexEJa7SopSrSQGtQaoX4BVIs1BLkx/cLovwBCok1pMYSYylY1PgDKcamrTa7aLAzUO1S2b1/eJ18F/gq1Snz2fbxSE7KfObM2fcGyDx79uyctvHx8fEAABSkvdUDAAA8n0ABAIojUACA4ggUAKA4AgUAKI5AAQCKI1AAgOIIFACgOFNaPcC/YmxsLLt378706dPT1tbW6nEAgJdgfHw8Tz/9dHp6etLe/o/PkUzKQNm9e3d6e3tbPQYA8C/YtWtXXv3qV//DfSZloEyfPj3J377Brq6uFk8DALwU9Xo9vb29jffxf2RSBsrff6zT1dUlUABgknkpl2e4SBYAKI5AAQCKI1AAgOIIFACgOAIFACiOQAEAiiNQAIDiCBQAoDgCBQAozgEHyoMPPpizzz47PT09aWtry7333jvh+fHx8axcuTKzZs3K1KlTMzg4mCeeeGLCPk899VQWL16crq6uzJgxIxdccEGeeeaZf+sbAQAOHQccKHv37s2b3vSmrF279kWfv/rqq7NmzZqsW7cuW7ZsybRp0zJ//vzs27evsc/ixYvzy1/+Mg888EDuv//+PPjggxkaGvrXvwsA4JDSNj4+Pv4vv7itLffcc08WLFiQ5G9nT3p6evLpT386n/nMZ5IktVot1Wo1t956axYtWpTHHnssJ5xwQh555JGccsopSZINGzbkve99b373u9+lp6fnn37der2eSqWSWq3mXjwAMEkcyPt3U28WuH379gwPD2dwcLCxVqlUMm/evGzevDmLFi3K5s2bM2PGjEacJMng4GDa29uzZcuWvO9973vBcUdHRzM6Otp4XK/Xmzk2ZN++fdm5c2erx4Ai9fX1pbOzs9VjcJhpaqAMDw8nSarV6oT1arXaeG54eDjHHnvsxCGmTMnMmTMb+zzf6tWrc8UVVzRzVJhg586dfswI/4P169dnzpw5rR6Dw0xTA+VgWb58eZYtW9Z4XK/X09vb28KJONT09fVl/fr1rR6DJDt27MiqVaty2WWXZfbs2a0eh/zt/w94uTU1ULq7u5MkIyMjmTVrVmN9ZGQkJ554YmOfJ598csLr/vrXv+app55qvP75Ojo60tHR0cxRYYLOzk5/QyzM7Nmz/TuBw1hTPwelv78/3d3d2bhxY2OtXq9ny5YtGRgYSJIMDAxkz5492bp1a2Of73//+xkbG8u8efOaOQ4AMEkd8BmUZ555Jr/5zW8aj7dv356f/vSnmTlzZvr6+rJ06dJceeWVOe6449Lf358VK1akp6en8Zs+xx9/fN797nfnwgsvzLp167J///5cdNFFWbRo0Uv6DR4A4NB3wIHy4x//OG9/+9sbj/9+bch5552XW2+9NZdcckn27t2boaGh7NmzJ2eeeWY2bNgw4QrwO+64IxdddFHe+c53pr29PQsXLsyaNWua8O0AAIeCf+tzUFrF56DAoWvbtm0ZGhrymyNwCDqQ92/34gEAiiNQAIDiCBQAoDgCBQAojkABAIojUACA4ggUAKA4AgUAKI5AAQCKI1AAgOIIFACgOAIFACiOQAEAiiNQAIDiCBQAoDgCBQAojkABAIojUACA4ggUAKA4AgUAKI5AAQCKI1AAgOIIFACgOAIFACiOQAEAiiNQAIDiCBQAoDgCBQAojkABAIojUACA4ggUAKA4AgUAKI5AAQCKI1AAgOIIFACgOAIFACiOQAEAiiNQAIDiCBQAoDgCBQAojkABAIojUACA4ggUAKA4AgUAKI5AAQCKI1AAgOIIFACgOAIFACiOQAEAiiNQAIDiCBQAoDgCBQAojkABAIojUACA4ggUAKA4AgUAKE7TA+W5557LihUr0t/fn6lTp+a1r31tvvjFL2Z8fLyxz/j4eFauXJlZs2Zl6tSpGRwczBNPPNHsUQCASarpgXLVVVflxhtvzFe/+tU89thjueqqq3L11Vfn+uuvb+xz9dVXZ82aNVm3bl22bNmSadOmZf78+dm3b1+zxwEAJqEpzT7gj370o5xzzjk566yzkiSvec1r8o1vfCMPP/xwkr+dPbnuuuty+eWX55xzzkmS3H777alWq7n33nuzaNGiZo8EAEwyTT+Dcvrpp2fjxo3Ztm1bkuRnP/tZfvjDH+Y973lPkmT79u0ZHh7O4OBg4zWVSiXz5s3L5s2bX/SYo6OjqdfrEzYA4NDV9DMol156aer1eubOnZsjjjgizz33XFatWpXFixcnSYaHh5Mk1Wp1wuuq1WrjuedbvXp1rrjiimaPCgAUqulnUL71rW/ljjvuyJ133plHH300t912W77yla/ktttu+5ePuXz58tRqtca2a9euJk4MAJSm6WdQPvvZz+bSSy9tXEvyhje8ITt27Mjq1atz3nnnpbu7O0kyMjKSWbNmNV43MjKSE0888UWP2dHRkY6OjmaPCgAUqulnUP785z+nvX3iYY844oiMjY0lSfr7+9Pd3Z2NGzc2nq/X69myZUsGBgaaPQ4AMAk1/QzK2WefnVWrVqWvry+ve93r8pOf/CTXXHNNPvKRjyRJ2trasnTp0lx55ZU57rjj0t/fnxUrVqSnpycLFixo9jgAwCTU9EC5/vrrs2LFinz84x/Pk08+mZ6ennz0ox/NypUrG/tccskl2bt3b4aGhrJnz56ceeaZ2bBhQzo7O5s9DgAwCbWN//ePeJ0k6vV6KpVKarVaurq6Wj0O0ETbtm3L0NBQ1q9fnzlz5rR6HKCJDuT92714AIDiCBQAoDgCBQAojkABAIojUACA4ggUAKA4AgUAKI5AAQCKI1AAgOIIFACgOAIFACiOQAEAiiNQAIDiCBQAoDgCBQAojkABAIojUACA4ggUAKA4AgUAKI5AAQCKI1AAgOIIFACgOAIFACiOQAEAiiNQAIDiCBQAoDgCBQAojkABAIojUACA4ggUAKA4AgUAKI5AAQCKI1AAgOIIFACgOAIFACiOQAEAiiNQAIDiCBQAoDgCBQAojkABAIojUACA4ggUAKA4AgUAKI5AAQCKI1AAgOIIFACgOAIFACiOQAEAiiNQAIDiCBQAoDgCBQAojkABAIojUACA4ggUAKA4AgUAKI5AAQCKI1AAgOIclED5/e9/nw996EM55phjMnXq1LzhDW/Ij3/848bz4+PjWblyZWbNmpWpU6dmcHAwTzzxxMEYBQCYhJoeKH/6059yxhln5Mgjj8x3v/vd/OpXv8p//Md/5Oijj27sc/XVV2fNmjVZt25dtmzZkmnTpmX+/PnZt29fs8cBACahKc0+4FVXXZXe3t7ccsstjbX+/v7GP4+Pj+e6667L5ZdfnnPOOSdJcvvtt6darebee+/NokWLmj0SADDJNP0Myne+852ccsopef/7359jjz02J510Um666abG89u3b8/w8HAGBwcba5VKJfPmzcvmzZtf9Jijo6Op1+sTNgDg0NX0QPntb3+bG2+8Mccdd1y+973v5WMf+1g++clP5rbbbkuSDA8PJ0mq1eqE11Wr1cZzz7d69epUKpXG1tvb2+yxAYCCND1QxsbG8uY3vzlf+tKXctJJJ2VoaCgXXnhh1q1b9y8fc/ny5anVao1t165dTZwYAChN0wNl1qxZOeGEEyasHX/88dm5c2eSpLu7O0kyMjIyYZ+RkZHGc8/X0dGRrq6uCRsAcOhqeqCcccYZefzxxyesbdu2LbNnz07ytwtmu7u7s3Hjxsbz9Xo9W7ZsycDAQLPHAQAmoab/Fs/FF1+c008/PV/60pfygQ98IA8//HDWr1+f9evXJ0na2tqydOnSXHnllTnuuOPS39+fFStWpKenJwsWLGj2OADAJNT0QDn11FNzzz33ZPny5fnCF76Q/v7+XHfddVm8eHFjn0suuSR79+7N0NBQ9uzZkzPPPDMbNmxIZ2dns8cBACahtvHx8fFWD3Gg6vV6KpVKarWa61HgELNt27YMDQ1l/fr1mTNnTqvHAZroQN6/3YsHACiOQAEAiiNQAIDiCBQAoDgCBQAojkABAIojUACA4ggUAKA4AgUAKI5AAQCKI1AAgOI0/WaBHJiRkZHUarVWjwHF2LFjx4Q/gb+pVCqpVqutHuNl42aBLTQyMpIP/Z//m/3PjrZ6FAAKd+RRHfmv/7x9UkfKgbx/O4PSQrVaLfufHc1f/tf/zlhnpdXjAFCo9n215LebUqvVJnWgHAiBUoCxzkrGpr2q1WMAQDFcJAsAFEegAADFESgAQHEECgBQHIECABRHoAAAxREoAEBxBAoAUByBAgAUR6AAAMURKABAcQQKAFAcgQIAFEegAADFESgAQHEECgBQHIECABRHoAAAxREoAEBxBAoAUByBAgAUR6AAAMURKABAcQQKAFAcgQIAFEegAADFESgAQHEECgBQHIECABRHoAAAxREoAEBxBAoAUByBAgAUR6AAAMURKABAcQQKAFAcgQIAFEegAADFESgAQHEECgBQHIECABTnoAfKl7/85bS1tWXp0qWNtX379mXJkiU55phj8spXvjILFy7MyMjIwR4FAJgkDmqgPPLII/na176WN77xjRPWL7744tx33325++67s2nTpuzevTvnnnvuwRwFAJhEDlqgPPPMM1m8eHFuuummHH300Y31Wq2Wm2++Oddcc03e8Y535OSTT84tt9ySH/3oR3nooYcO1jgAwCRy0AJlyZIlOeusszI4ODhhfevWrdm/f/+E9blz56avry+bN29+0WONjo6mXq9P2ACAQ9eUg3HQu+66K48++mgeeeSRFzw3PDyco446KjNmzJiwXq1WMzw8/KLHW716da644oqDMSoAUKCmn0HZtWtXPvWpT+WOO+5IZ2dnU465fPny1Gq1xrZr166mHBcAKFPTA2Xr1q158skn8+Y3vzlTpkzJlClTsmnTpqxZsyZTpkxJtVrNs88+mz179kx43cjISLq7u1/0mB0dHenq6pqwAQCHrqb/iOed73xnfv7zn09YO//88zN37tx87nOfS29vb4488shs3LgxCxcuTJI8/vjj2blzZwYGBpo9DgAwCTU9UKZPn57Xv/71E9amTZuWY445prF+wQUXZNmyZZk5c2a6urryiU98IgMDAznttNOaPQ4AMAkdlItk/5lrr7027e3tWbhwYUZHRzN//vzccMMNrRgFACjQyxIoP/jBDyY87uzszNq1a7N27dqX48sDAJOMe/EAAMURKABAcQQKAFAcgQIAFEegAADFESgAQHEECgBQHIECABRHoAAAxREoAEBxBAoAUByBAgAUR6AAAMURKABAcQQKAFAcgQIAFEegAADFESgAQHEECgBQHIECABRHoAAAxREoAEBxBAoAUByBAgAUR6AAAMURKABAcQQKAFAcgQIAFEegAADFESgAQHEECgBQHIECABRHoAAAxREoAEBxBAoAUByBAgAUR6AAAMURKABAcQQKAFAcgQIAFEegAADFESgAQHEECgBQHIECABRHoAAAxREoAEBxBAoAUByBAgAUZ0qrByBp/8ueVo8AQMEOx/cJgVKAqdsfbPUIAFAUgVKAv/S/NWNTZ7R6DAAK1f6XPYfdX2YFSgHGps7I2LRXtXoMACiGi2QBgOIIFACgOAIFACiOQAEAitP0QFm9enVOPfXUTJ8+Pccee2wWLFiQxx9/fMI++/bty5IlS3LMMcfkla98ZRYuXJiRkZFmjwIATFJND5RNmzZlyZIleeihh/LAAw9k//79ede73pW9e/c29rn44otz33335e67786mTZuye/funHvuuc0eBQCYpJr+a8YbNmyY8PjWW2/Nsccem61bt+atb31rarVabr755tx55515xzvekSS55ZZbcvzxx+ehhx7Kaaed1uyRAIBJ5qBfg1Kr1ZIkM2fOTJJs3bo1+/fvz+DgYGOfuXPnpq+vL5s3b37RY4yOjqZer0/YAIBD10ENlLGxsSxdujRnnHFGXv/61ydJhoeHc9RRR2XGjBkT9q1WqxkeHn7R46xevTqVSqWx9fb2HsyxAYAWO6iBsmTJkvziF7/IXXfd9W8dZ/ny5anVao1t165dTZoQACjRQfuo+4suuij3339/Hnzwwbz61a9urHd3d+fZZ5/Nnj17JpxFGRkZSXd394seq6OjIx0dHQdrVACgME0/gzI+Pp6LLroo99xzT77//e+nv79/wvMnn3xyjjzyyGzcuLGx9vjjj2fnzp0ZGBho9jgAwCTU9DMoS5YsyZ133plvf/vbmT59euO6kkqlkqlTp6ZSqeSCCy7IsmXLMnPmzHR1deUTn/hEBgYG/AYPAJDkIATKjTfemCR529veNmH9lltuyYc//OEkybXXXpv29vYsXLgwo6OjmT9/fm644YZmjwIATFJND5Tx8fF/uk9nZ2fWrl2btWvXNvvLAwCHAPfiAQCKI1AAgOIIFACgOAIFACiOQAEAiiNQAIDiCBQAoDgCBQAojkABAIojUACA4ggUAKA4AgUAKI5AAQCKI1AAgOIIFACgOAIFACiOQAEAiiNQAIDiCBQAoDgCBQAojkABAIojUACA4ggUAKA4AgUAKI5AAQCKI1AAgOIIFACgOAIFACiOQAEAiiNQAIDiCBQAoDgCBQAojkABAIojUACA4ggUAKA4AgUAKI5AAQCKI1AAgOIIFACgOFNaPQBJ+75aq0cAoGCH4/uEQGmhSqWSI4/qSH67qdWjAFC4I4/qSKVSafUYLxuB0kLVajX/9Z+3p1Y7/MoY/ic7duzIqlWrctlll2X27NmtHgeKUalUUq1WWz3Gy0agtFi1Wj2s/oODl2r27NmZM2dOq8cAWsRFsgBAcQQKAFAcgQIAFEegAADFESgAQHEECgBQHIECABRHoAAAxREoAEBxBAoAUByBAgAUR6AAAMURKABAcVoaKGvXrs1rXvOadHZ2Zt68eXn44YdbOQ4AUIiWBco3v/nNLFu2LJ///Ofz6KOP5k1velPmz5+fJ598slUjAQCFaFmgXHPNNbnwwgtz/vnn54QTTsi6devyile8Il//+tdbNRIAUIgprfiizz77bLZu3Zrly5c31trb2zM4OJjNmze/YP/R0dGMjo42Htfr9ZdlTg4f+/bty86dO1s9Bkl27Ngx4U9ar6+vL52dna0eg8NMSwLlj3/8Y5577rlUq9UJ69VqNb/+9a9fsP/q1atzxRVXvFzjcRjauXNnhoaGWj0G/82qVataPQL/3/r16zNnzpxWj8FhpiWBcqCWL1+eZcuWNR7X6/X09va2cCIONX19fVm/fn2rx4Ai9fX1tXoEDkMtCZRXvepVOeKIIzIyMjJhfWRkJN3d3S/Yv6OjIx0dHS/XeByGOjs7/Q0RoCAtuUj2qKOOysknn5yNGzc21sbGxrJx48YMDAy0YiQAoCAt+xHPsmXLct555+WUU07JW97yllx33XXZu3dvzj///FaNBAAUomWB8sEPfjB/+MMfsnLlygwPD+fEE0/Mhg0bXnDhLABw+GkbHx8fb/UQB6per6dSqaRWq6Wrq6vV4wAAL8GBvH+7Fw8AUByBAgAUR6AAAMURKABAcQQKAFAcgQIAFEegAADFESgAQHEECgBQnJZ91P2/4+8ffluv11s8CQDwUv39ffulfIj9pAyUp59+OknS29vb4kkAgAP19NNPp1Kp/MN9JuW9eMbGxrJ79+5Mnz49bW1trR4HaKJ6vZ7e3t7s2rXLvbbgEDM+Pp6nn346PT09aW//x1eZTMpAAQ5dbgYKJC6SBQAKJFAAgOIIFKAoHR0d+fznP5+Ojo5WjwK0kGtQAIDiOIMCABRHoAAAxREoAEBxBAoAUByBAgAUR6AAAMURKABAcQQKAFCc/weCf154Pr0JxwAAAABJRU5ErkJggg==",
      "text/plain": [
       "<Figure size 640x480 with 1 Axes>"
      ]
     },
     "metadata": {},
     "output_type": "display_data"
    }
   ],
   "source": [
    "sns.boxplot(lesson_series)"
   ]
  },
  {
   "cell_type": "markdown",
   "id": "3b1e20ff-5610-4a30-8a88-73c784c83c01",
   "metadata": {},
   "source": [
    "Going back to the fourth power series, another histogram variant is the violin plot.  This simply combines a kde plot (turned on its side and forming two side of the violin) with a boxplot:"
   ]
  },
  {
   "cell_type": "code",
   "execution_count": 14,
   "id": "fefb2109-f9f7-4859-ace4-2c27c45db3f4",
   "metadata": {},
   "outputs": [
    {
     "data": {
      "text/plain": [
       "<Axes: >"
      ]
     },
     "execution_count": 14,
     "metadata": {},
     "output_type": "execute_result"
    },
    {
     "data": {
      "image/png": "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",
      "text/plain": [
       "<Figure size 640x480 with 1 Axes>"
      ]
     },
     "metadata": {},
     "output_type": "display_data"
    }
   ],
   "source": [
    "sns.violinplot(lesson_series_3)"
   ]
  },
  {
   "cell_type": "markdown",
   "id": "4c4b302b-852f-4e56-8d94-4325d8bb596a",
   "metadata": {},
   "source": [
    "Finally, a swarm plot shows the histogram (turned on its side and doubled, as with the violin plot) but showing each individual point."
   ]
  },
  {
   "cell_type": "code",
   "execution_count": 15,
   "id": "e80081df-fb4c-4bb8-83b2-be302662674a",
   "metadata": {},
   "outputs": [
    {
     "data": {
      "text/plain": [
       "<Axes: >"
      ]
     },
     "execution_count": 15,
     "metadata": {},
     "output_type": "execute_result"
    },
    {
     "data": {
      "image/png": "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",
      "text/plain": [
       "<Figure size 640x480 with 1 Axes>"
      ]
     },
     "metadata": {},
     "output_type": "display_data"
    }
   ],
   "source": [
    "sns.swarmplot(lesson_series_3)"
   ]
  },
  {
   "cell_type": "markdown",
   "id": "df4e2071-90d1-4bdc-9010-4622ba0bebbb",
   "metadata": {},
   "source": [
    "# 2. Weekly graph question"
   ]
  },
  {
   "cell_type": "markdown",
   "id": "ebe3d84d-c649-4d16-8b25-c41d1a60fd40",
   "metadata": {},
   "source": [
    "Below are a histogram and table representation of the same data.  A species of bird is being analyzed, and each individual's body length in inches has been measured.\n",
    "\n",
    "Please write a short explanation of the pros and cons of these two representations.  Which would you choose?  How would you modify the formatting, if at all, to make it more visually interesting, clear, or informative?"
   ]
  },
  {
   "cell_type": "code",
   "execution_count": 16,
   "id": "19a155ac-8ae0-4b05-be4d-7032dafe5df1",
   "metadata": {},
   "outputs": [],
   "source": [
    "import numpy as np\n",
    "import pandas as pd\n",
    "\n",
    "np.random.seed(0)\n",
    "num_data = 10000\n",
    "data = np.random.normal(size = num_data) + 6\n",
    "df = pd.DataFrame(data.T, columns = [\"data\"])"
   ]
  },
  {
   "cell_type": "code",
   "execution_count": 17,
   "id": "f1bc4c4b-eeef-4b53-9142-ed982f85f341",
   "metadata": {},
   "outputs": [],
   "source": [
    "histnums = np.histogram(df[\"data\"])\n",
    "histcounts = histnums[0]\n",
    "histmins = histnums[1][0:-1]\n",
    "histmaxes = histnums[1][1:]"
   ]
  },
  {
   "cell_type": "code",
   "execution_count": 18,
   "id": "9498b327-02fd-4bc0-a2ed-02c9a1938eb0",
   "metadata": {},
   "outputs": [
    {
     "data": {
      "text/html": [
       "<div>\n",
       "<style scoped>\n",
       "    .dataframe tbody tr th:only-of-type {\n",
       "        vertical-align: middle;\n",
       "    }\n",
       "\n",
       "    .dataframe tbody tr th {\n",
       "        vertical-align: top;\n",
       "    }\n",
       "\n",
       "    .dataframe thead th {\n",
       "        text-align: right;\n",
       "    }\n",
       "</style>\n",
       "<table border=\"1\" class=\"dataframe\">\n",
       "  <thead>\n",
       "    <tr style=\"text-align: right;\">\n",
       "      <th></th>\n",
       "      <th>count</th>\n",
       "      <th>minval</th>\n",
       "      <th>maxval</th>\n",
       "    </tr>\n",
       "  </thead>\n",
       "  <tbody>\n",
       "    <tr>\n",
       "      <th>0</th>\n",
       "      <td>10.0</td>\n",
       "      <td>2.259899</td>\n",
       "      <td>3.014075</td>\n",
       "    </tr>\n",
       "    <tr>\n",
       "      <th>1</th>\n",
       "      <td>110.0</td>\n",
       "      <td>3.014075</td>\n",
       "      <td>3.768252</td>\n",
       "    </tr>\n",
       "    <tr>\n",
       "      <th>2</th>\n",
       "      <td>579.0</td>\n",
       "      <td>3.768252</td>\n",
       "      <td>4.522428</td>\n",
       "    </tr>\n",
       "    <tr>\n",
       "      <th>3</th>\n",
       "      <td>1710.0</td>\n",
       "      <td>4.522428</td>\n",
       "      <td>5.276604</td>\n",
       "    </tr>\n",
       "    <tr>\n",
       "      <th>4</th>\n",
       "      <td>2833.0</td>\n",
       "      <td>5.276604</td>\n",
       "      <td>6.030780</td>\n",
       "    </tr>\n",
       "    <tr>\n",
       "      <th>5</th>\n",
       "      <td>2688.0</td>\n",
       "      <td>6.030780</td>\n",
       "      <td>6.784956</td>\n",
       "    </tr>\n",
       "    <tr>\n",
       "      <th>6</th>\n",
       "      <td>1479.0</td>\n",
       "      <td>6.784956</td>\n",
       "      <td>7.539132</td>\n",
       "    </tr>\n",
       "    <tr>\n",
       "      <th>7</th>\n",
       "      <td>487.0</td>\n",
       "      <td>7.539132</td>\n",
       "      <td>8.293308</td>\n",
       "    </tr>\n",
       "    <tr>\n",
       "      <th>8</th>\n",
       "      <td>97.0</td>\n",
       "      <td>8.293308</td>\n",
       "      <td>9.047484</td>\n",
       "    </tr>\n",
       "    <tr>\n",
       "      <th>9</th>\n",
       "      <td>7.0</td>\n",
       "      <td>9.047484</td>\n",
       "      <td>9.801660</td>\n",
       "    </tr>\n",
       "  </tbody>\n",
       "</table>\n",
       "</div>"
      ],
      "text/plain": [
       "    count    minval    maxval\n",
       "0    10.0  2.259899  3.014075\n",
       "1   110.0  3.014075  3.768252\n",
       "2   579.0  3.768252  4.522428\n",
       "3  1710.0  4.522428  5.276604\n",
       "4  2833.0  5.276604  6.030780\n",
       "5  2688.0  6.030780  6.784956\n",
       "6  1479.0  6.784956  7.539132\n",
       "7   487.0  7.539132  8.293308\n",
       "8    97.0  8.293308  9.047484\n",
       "9     7.0  9.047484  9.801660"
      ]
     },
     "execution_count": 18,
     "metadata": {},
     "output_type": "execute_result"
    }
   ],
   "source": [
    "pd.DataFrame(np.array([histcounts, histmins, histmaxes]).T, columns = [\"count\", \"minval\", \"maxval\"])"
   ]
  },
  {
   "cell_type": "code",
   "execution_count": 19,
   "id": "00edb53d-d204-44b1-ad4a-09d39bc96547",
   "metadata": {},
   "outputs": [
    {
     "data": {
      "text/plain": [
       "<Axes: ylabel='Frequency'>"
      ]
     },
     "execution_count": 19,
     "metadata": {},
     "output_type": "execute_result"
    },
    {
     "data": {
      "image/png": "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",
      "text/plain": [
       "<Figure size 640x480 with 1 Axes>"
      ]
     },
     "metadata": {},
     "output_type": "display_data"
    }
   ],
   "source": [
    "df.plot.hist()"
   ]
  },
  {
   "cell_type": "markdown",
   "id": "eb693244",
   "metadata": {},
   "source": [
    "Table: Tables are a great, concise way to showcase specific data however are easily overcrowded and it can be hard to understand the overall picture the table is trying to convey. For this specific table, it is concise and has all of the exact data measurements next to each other so it is easier to compare them. The data table also utilizes light borders which makes the data easy to read. It is very hard to see the overall trends of the data and we don't really know the shape or trends present for the data set. This table would be improved by clarifying the column titles so it is clear what the data actually represents, as well as including units. \n",
    "\n",
    "Histogram: Histograms are easy to read, reveal trends if modeled correctly, and are easy to comprehend. Histograms can unfortunately sometimes misguide us and misrepresent data trends if modeled incorrectly. Histograms can appear cluttered if too many bars are shown on the same graph since there is no space between bars as there is in a bar chart. In this specific histogram, the correct number of bars are modeled and the overall trend is clearly visualized. However, it is unclear what data is being modeled in this chart so we have no way to determine what the data is and what it actually represents. The legend just indicates \"data\" with no regard for what that data actually is. The y-axis is labeled with frequency but there is no label on the x-axis to indicate what the numbers represent. The histogram also lacks a title to explain what the graph represents. This histogram could be effective if many labels and descriptors were added. "
   ]
  },
  {
   "cell_type": "markdown",
   "id": "231f7050-c29c-4f78-bd66-4f6abc7fb535",
   "metadata": {},
   "source": [
    "# 3. Homework - Amusement Park Rides"
   ]
  },
  {
   "cell_type": "markdown",
   "id": "2931ca68-9665-4c74-9480-23bfbccab34a",
   "metadata": {},
   "source": [
    "Now let's imagine we have some data about how many times different visitors to an amusement park used each ride, as well as how much money they spend at the amusement park.  Each sample represents a single visit by a single visitor on a given date."
   ]
  },
  {
   "cell_type": "code",
   "execution_count": 20,
   "id": "512b59a5-748b-4d8c-95f7-d922e9e7fb31",
   "metadata": {},
   "outputs": [],
   "source": [
    "num_visits = 10000\n",
    "np.random.seed(0)"
   ]
  },
  {
   "cell_type": "code",
   "execution_count": 21,
   "id": "8a954699-fbaa-425b-95db-236026631c6a",
   "metadata": {},
   "outputs": [],
   "source": [
    "df = pd.DataFrame(columns = [\"VisitDate\"])"
   ]
  },
  {
   "cell_type": "code",
   "execution_count": 22,
   "id": "8f0b3b37-2288-45c3-badd-3161dd6b8d09",
   "metadata": {},
   "outputs": [],
   "source": [
    "start = datetime(2010, 1, 1)\n",
    "end = datetime(2024, 1, 1)\n",
    "numdays = (end - start).days\n",
    "random_days = np.random.randint(0, numdays, size = num_visits)\n",
    "s = start + pd.to_timedelta(random_days, unit='D')\n",
    "s = s.sort_values()\n",
    "df[\"VisitDate\"] = s"
   ]
  },
  {
   "cell_type": "code",
   "execution_count": 23,
   "id": "b2e18d8f-492e-4d76-9ab2-a0973de4e5f6",
   "metadata": {},
   "outputs": [],
   "source": [
    "df[\"IsAdult\"] = np.random.choice([True, True, False], size = num_visits)"
   ]
  },
  {
   "cell_type": "code",
   "execution_count": 24,
   "id": "ae55dbc8-3153-4246-9db7-933554fe04f2",
   "metadata": {},
   "outputs": [],
   "source": [
    "df[\"MartianRide\"] = np.random.choice([0] * 8 + [1] * 3 + [2] * 3 + [3] * 1 + [10], size = num_visits) * df[\"IsAdult\"]"
   ]
  },
  {
   "cell_type": "code",
   "execution_count": 25,
   "id": "4e5ed8e1-69cc-4463-9895-fc3c320a5b59",
   "metadata": {},
   "outputs": [],
   "source": [
    "df[\"TeacupRide\"] = np.random.choice([0] * 2 + [1] * 5 + [2] * 3 + [5] * 2, size = num_visits) * ~df[\"IsAdult\"]"
   ]
  },
  {
   "cell_type": "code",
   "execution_count": 26,
   "id": "1dbb4b1e-057c-4a36-a241-dc37e4f106ad",
   "metadata": {},
   "outputs": [],
   "source": [
    "df[\"RiverRide\"] = np.random.choice([0] * 8 + [1] * 3 + [2] * 2, size = num_visits) * df[\"IsAdult\"] + np.random.randint(1, 5, size = num_visits) * ~df[\"IsAdult\"]"
   ]
  },
  {
   "cell_type": "code",
   "execution_count": 27,
   "id": "831df036-2aa7-4010-a7dc-ac136ca7e919",
   "metadata": {},
   "outputs": [],
   "source": [
    "df[\"MoneySpent\"] = np.round(np.random.random(size = num_visits)**2 * 100, 2)"
   ]
  },
  {
   "cell_type": "code",
   "execution_count": 28,
   "id": "1ac12ffe-e5d1-4378-b667-ecddcfffe097",
   "metadata": {},
   "outputs": [
    {
     "data": {
      "text/html": [
       "<div>\n",
       "<style scoped>\n",
       "    .dataframe tbody tr th:only-of-type {\n",
       "        vertical-align: middle;\n",
       "    }\n",
       "\n",
       "    .dataframe tbody tr th {\n",
       "        vertical-align: top;\n",
       "    }\n",
       "\n",
       "    .dataframe thead th {\n",
       "        text-align: right;\n",
       "    }\n",
       "</style>\n",
       "<table border=\"1\" class=\"dataframe\">\n",
       "  <thead>\n",
       "    <tr style=\"text-align: right;\">\n",
       "      <th></th>\n",
       "      <th>VisitDate</th>\n",
       "      <th>IsAdult</th>\n",
       "      <th>MartianRide</th>\n",
       "      <th>TeacupRide</th>\n",
       "      <th>RiverRide</th>\n",
       "      <th>MoneySpent</th>\n",
       "    </tr>\n",
       "  </thead>\n",
       "  <tbody>\n",
       "    <tr>\n",
       "      <th>0</th>\n",
       "      <td>2010-01-01</td>\n",
       "      <td>False</td>\n",
       "      <td>0</td>\n",
       "      <td>1</td>\n",
       "      <td>4</td>\n",
       "      <td>10.30</td>\n",
       "    </tr>\n",
       "    <tr>\n",
       "      <th>1</th>\n",
       "      <td>2010-01-01</td>\n",
       "      <td>True</td>\n",
       "      <td>3</td>\n",
       "      <td>0</td>\n",
       "      <td>0</td>\n",
       "      <td>38.77</td>\n",
       "    </tr>\n",
       "    <tr>\n",
       "      <th>2</th>\n",
       "      <td>2010-01-01</td>\n",
       "      <td>True</td>\n",
       "      <td>0</td>\n",
       "      <td>0</td>\n",
       "      <td>0</td>\n",
       "      <td>79.34</td>\n",
       "    </tr>\n",
       "    <tr>\n",
       "      <th>3</th>\n",
       "      <td>2010-01-01</td>\n",
       "      <td>True</td>\n",
       "      <td>0</td>\n",
       "      <td>0</td>\n",
       "      <td>1</td>\n",
       "      <td>87.84</td>\n",
       "    </tr>\n",
       "    <tr>\n",
       "      <th>4</th>\n",
       "      <td>2010-01-02</td>\n",
       "      <td>False</td>\n",
       "      <td>0</td>\n",
       "      <td>1</td>\n",
       "      <td>2</td>\n",
       "      <td>18.65</td>\n",
       "    </tr>\n",
       "  </tbody>\n",
       "</table>\n",
       "</div>"
      ],
      "text/plain": [
       "   VisitDate  IsAdult  MartianRide  TeacupRide  RiverRide  MoneySpent\n",
       "0 2010-01-01    False            0           1          4       10.30\n",
       "1 2010-01-01     True            3           0          0       38.77\n",
       "2 2010-01-01     True            0           0          0       79.34\n",
       "3 2010-01-01     True            0           0          1       87.84\n",
       "4 2010-01-02    False            0           1          2       18.65"
      ]
     },
     "execution_count": 28,
     "metadata": {},
     "output_type": "execute_result"
    }
   ],
   "source": [
    "df.iloc[0:5]"
   ]
  },
  {
   "cell_type": "markdown",
   "id": "c6126e8f-4b52-423a-a350-34cf52b29bb4",
   "metadata": {},
   "source": [
    "1. Find the mean, median, and mode for how many times visitors rode each ride.  See Week 1 for Google advice on this."
   ]
  },
  {
   "cell_type": "code",
   "execution_count": 29,
   "id": "b71358f5-5ad4-44b2-88eb-9672a26f1de9",
   "metadata": {},
   "outputs": [
    {
     "name": "stdout",
     "output_type": "stream",
     "text": [
      "VisitDate      2016-12-23 07:58:56.640000\n",
      "IsAdult                            0.6625\n",
      "MartianRide                        0.9073\n",
      "TeacupRide                         0.5862\n",
      "RiverRide                          1.2007\n",
      "MoneySpent                      33.358265\n",
      "dtype: object\n",
      "VisitDate      2016-12-12 00:00:00\n",
      "IsAdult                        1.0\n",
      "MartianRide                    0.0\n",
      "TeacupRide                     0.0\n",
      "RiverRide                      1.0\n",
      "MoneySpent                   25.27\n",
      "dtype: object\n",
      "0    0\n",
      "Name: MartianRide, dtype: int64\n",
      "0    0\n",
      "Name: TeacupRide, dtype: int64\n",
      "0    0\n",
      "Name: RiverRide, dtype: int64\n"
     ]
    }
   ],
   "source": [
    "\n",
    "# means\n",
    "all_column_means = df.mean()\n",
    "#df[[\"ride', ride'\"]].mean()\n",
    "#just this would be fine \n",
    "print(all_column_means)\n",
    "Martian_Mean = df['MartianRide'].mean()\n",
    "Teacup_Mean = df['TeacupRide'].mean()\n",
    "River_Mean = df['RiverRide'].mean()\n",
    "\n",
    "# medians \n",
    "all_column_medians = df.median()\n",
    "print(all_column_medians)\n",
    "Martian_Median = df['MartianRide'].median()\n",
    "Teacup_Median = df['TeacupRide'].median()\n",
    "River_Median = df['RiverRide'].median()\n",
    "all_column_mode = df.mode()\n",
    "\n",
    "# modes \n",
    "Martian_Mode = df['MartianRide'].mode()\n",
    "print(Martian_Mode)\n",
    "Teacup_Mode = df['TeacupRide'].mode()\n",
    "print(Teacup_Mode)\n",
    "River_Mode = df['RiverRide'].mode()\n",
    "print(River_Mode)\n",
    "\n"
   ]
  },
  {
   "cell_type": "markdown",
   "id": "8305f3a4-2658-410d-af24-0f76e55bda30",
   "metadata": {},
   "source": [
    "2. Use groupby() to find the mean, median, and mode for how many times each ride was ridden on each given day."
   ]
  },
  {
   "cell_type": "markdown",
   "id": "2a3c7d79-2f11-4080-8d6b-b5876a02dafd",
   "metadata": {},
   "source": [
    "Suggested Google search or ChatGPT prompt: \n",
    "I first tried: \"How do I use groupby to find the mean over each day in my DataFrame?\" but Google didn't help me.\n",
    "\n",
    "Then I tried: \"How do I find the mean over each date in a dataframe?\"  Sometimes, you have to try multiple searches.\n",
    "\n",
    "This gives me a very helpful site, where someone is doing the same thing we are:\n",
    "\n",
    "https://stackoverflow.com/questions/40788530/how-to-calculate-mean-of-some-rows-for-each-given-date-in-a-dataframe"
   ]
  },
  {
   "cell_type": "code",
   "execution_count": 30,
   "id": "9d09bb2c-a2f1-4b7f-96bd-ce5071654864",
   "metadata": {},
   "outputs": [
    {
     "name": "stdout",
     "output_type": "stream",
     "text": [
      "<pandas.core.groupby.generic.SeriesGroupBy object at 0x7bb84ba78b60>\n"
     ]
    }
   ],
   "source": [
    "\n",
    "df['VisitDate']= pd.to_datetime(df['VisitDate'])\n",
    "grouped_martian = df.groupby(['VisitDate'])['MartianRide']\n",
    "gm_mean = grouped_martian.mean()\n",
    "gm_median = grouped_martian.median()\n",
    "gm_mode = df['MartianRide'].mode()\n",
    "print(grouped_martian)\n",
    "\n",
    "grouped_river = df.groupby(['VisitDate'])['RiverRide']\n",
    "gr_mean = grouped_river.mean()\n",
    "gr_median = grouped_river.median()\n",
    "gr_mode = df['RiverRide'].mode()\n",
    "\n",
    "grouped_teacup = df.groupby(['VisitDate'])['TeacupRide']\n",
    "gt_mean = grouped_teacup.mean()\n",
    "gt_median = grouped_teacup.median()\n",
    "gt_mode = df['TeacupRide'].mode()\n"
   ]
  },
  {
   "cell_type": "markdown",
   "id": "136a4271-922a-4f2b-9495-8eb6112701bb",
   "metadata": {},
   "source": [
    "3. Find the standard deviation and variance of the count for each ride.\n",
    "\n",
    "Suggested Google search or ChatGPT prompt: \"How do I find the standard deviation of a Series in pandas documentation?\" and similar query for variance.\n",
    "\n",
    "I included the word \"documentation\" because this task likely involves applying one single function for standard deviation and another for variance, so I expected that I could find a single documentation page for each that would cover my needs.  I get these:\n",
    "\n",
    "https://pandas.pydata.org/pandas-docs/dev/reference/api/pandas.Series.var.html\n",
    "\n",
    "https://pandas.pydata.org/docs/reference/api/pandas.Series.std.html"
   ]
  },
  {
   "cell_type": "code",
   "execution_count": 31,
   "id": "a407b40f-468f-4a5f-91d4-e2361ffc20d9",
   "metadata": {},
   "outputs": [
    {
     "name": "stdout",
     "output_type": "stream",
     "text": [
      "              IsAdult  TeacupRide  RiverRide  MoneySpent\n",
      "MartianRide                                             \n",
      "0            0.500028    1.419268   1.382307   29.489034\n",
      "1            0.000000    0.000000   0.754520   29.779736\n",
      "2            0.000000    0.000000   0.737290   30.295594\n",
      "3            0.000000    0.000000   0.736034   30.656770\n",
      "10           0.000000    0.000000   0.776117   29.092964\n",
      "            IsAdult  MartianRide  TeacupRide  MoneySpent\n",
      "RiverRide                                               \n",
      "0          0.000000     2.405186    0.000000   29.912047\n",
      "1          0.479973     2.010376    1.247211   29.828884\n",
      "2          0.498148     2.035472    1.415457   29.520488\n",
      "3          0.000000     0.000000    1.586822   29.143573\n",
      "4          0.000000     0.000000    1.552341   28.661513\n",
      "             IsAdult  MartianRide  RiverRide  MoneySpent\n",
      "TeacupRide                                              \n",
      "0           0.267489     2.357751   0.950404   29.775190\n",
      "1           0.000000     0.000000   1.142007   29.126152\n",
      "2           0.000000     0.000000   1.113717   29.818842\n",
      "5           0.000000     0.000000   1.106857   29.206575\n"
     ]
    }
   ],
   "source": [
    "df['VisitDate']= pd.to_datetime(df['VisitDate'])\n",
    "df_copy = df.copy()\n",
    "df_copy.drop(columns=['VisitDate'], inplace=True)\n",
    "martian = df_copy.groupby('MartianRide')\n",
    "martian_std = martian.std()\n",
    "martian_var = martian.var()\n",
    "print(martian_std)\n",
    "\n",
    "river = df_copy.groupby('RiverRide')\n",
    "river_std = river.std()\n",
    "river_var = river.var()\n",
    "print(river_std)\n",
    "\n",
    "teacup = df_copy.groupby('TeacupRide')\n",
    "teacup_std = teacup.std()\n",
    "teacup_var = teacup.var()\n",
    "print(teacup_std)\n",
    "\n"
   ]
  },
  {
   "cell_type": "markdown",
   "id": "c05f00b7-0ccc-42ea-a4da-6d5ff1fef4ae",
   "metadata": {},
   "source": [
    "4. Find the 90th percentile count for each ride.  That is, if the customers are ordered by their number of rides, and there are 100 customers, how many rides does the 90th person take?  There is a function in pandas that easily does this calculation.\n",
    "\n",
    "Suggested Google search or ChatGPT prompt: \"How do I find a percentile value for a Series in pandas documentation?\"\n",
    "\n",
    "This time, I will let you find the page!  Hint: it's not actually called the \"percentile\" function."
   ]
  },
  {
   "cell_type": "code",
   "execution_count": 32,
   "id": "caeabcfa-a68e-4951-be11-46e36e83faa2",
   "metadata": {},
   "outputs": [
    {
     "name": "stdout",
     "output_type": "stream",
     "text": [
      "                      VisitDate  IsAdult  TeacupRide  RiverRide  MoneySpent\n",
      "MartianRide                                                                \n",
      "0           2022-07-27 00:00:00      1.0         2.0        4.0      80.170\n",
      "1           2022-08-12 09:36:00      1.0         0.0        2.0      81.156\n",
      "2           2022-05-22 00:00:00      1.0         0.0        2.0      82.265\n",
      "3           2022-09-30 00:00:00      1.0         0.0        2.0      85.640\n",
      "10          2022-09-19 12:00:00      1.0         0.0        2.0      78.860                               VisitDate  IsAdult  MartianRide  TeacupRide  \\\n",
      "RiverRide                                                                   \n",
      "0         2022-06-27 14:24:00.000000000      1.0          3.0         0.0   \n",
      "1         2022-08-20 09:36:00.000000256      1.0          2.0         2.0   \n",
      "2         2022-08-18 14:24:00.000000000      1.0          2.0         2.0   \n",
      "3         2022-12-06 09:36:00.000000000      0.0          0.0         5.0   \n",
      "4         2022-05-24 21:36:00.000000000      0.0          0.0         5.0   \n",
      "\n",
      "           MoneySpent  \n",
      "RiverRide              \n",
      "0              81.193  \n",
      "1              81.590  \n",
      "2              80.558  \n",
      "3              78.222  \n",
      "4              79.127                        VisitDate  IsAdult  MartianRide  RiverRide  MoneySpent\n",
      "TeacupRide                                                                 \n",
      "0          2022-07-27 00:00:00      1.0          3.0        2.0      81.318\n",
      "1          2022-10-11 14:24:00      0.0          0.0        4.0      78.600\n",
      "2          2022-06-01 00:00:00      0.0          0.0        4.0      81.770\n",
      "5          2022-02-24 09:36:00      0.0          0.0        4.0      78.468\n"
     ]
    },
    {
     "name": "stderr",
     "output_type": "stream",
     "text": [
      "/tmp/ipykernel_15960/2781524557.py:1: FutureWarning: Allowing bool dtype in DataFrameGroupBy.quantile is deprecated and will raise in a future version, matching the Series/DataFrame behavior. Cast to uint8 dtype before calling quantile instead.\n",
      "  percentile_martian = df.groupby('MartianRide').quantile(0.9)\n",
      "/tmp/ipykernel_15960/2781524557.py:2: FutureWarning: Allowing bool dtype in DataFrameGroupBy.quantile is deprecated and will raise in a future version, matching the Series/DataFrame behavior. Cast to uint8 dtype before calling quantile instead.\n",
      "  percentile_river = df.groupby('RiverRide').quantile(0.9)\n",
      "/tmp/ipykernel_15960/2781524557.py:3: FutureWarning: Allowing bool dtype in DataFrameGroupBy.quantile is deprecated and will raise in a future version, matching the Series/DataFrame behavior. Cast to uint8 dtype before calling quantile instead.\n",
      "  percentile_teacup = df.groupby('TeacupRide').quantile(0.9)\n"
     ]
    }
   ],
   "source": [
    "percentile_martian = df.groupby('MartianRide').quantile(0.9)\n",
    "percentile_river = df.groupby('RiverRide').quantile(0.9)\n",
    "percentile_teacup = df.groupby('TeacupRide').quantile(0.9)\n",
    "\n",
    "print(percentile_martian, percentile_river, percentile_teacup)"
   ]
  },
  {
   "cell_type": "markdown",
   "id": "b628a048-58fe-4162-9763-db1349a33d47",
   "metadata": {},
   "source": [
    "5. Plot a histogram of the ride count, using each day as data element as you did in #2.  Use both the total ride count for each day as well as, separately, the mean ride count for each day.\n",
    "\n",
    "Suggested Google search or ChatGPT prompt: \"How do I plot a histogram for a Series in pandas?\"\n",
    "\n",
    "I found this: https://pandas.pydata.org/docs/reference/api/pandas.Series.plot.hist.html\n",
    "\n",
    "Note: the \"by\" keyword will not help you plot a count for each day; if you try to use it for this, it will try to draw a separate histogram for each day.\n",
    "\n",
    "You've already learned how to find the mean ride count for each day.  Can you use a similar idea to find the total ride count for each day?"
   ]
  },
  {
   "cell_type": "code",
   "execution_count": 33,
   "id": "7eb1f1ac",
   "metadata": {},
   "outputs": [],
   "source": [
    "df['date_of_visit'] = pd.to_datetime(df['VisitDate'])\n",
    "river_counts_per_day = df.groupby('date_of_visit')['RiverRide'].count()\n",
    "river_means_per_day = river_counts_per_day.mean()\n",
    "martian_counts_per_day = df.groupby('date_of_visit')['MartianRide'].count()\n",
    "martian_means_per_day = martian_counts_per_day.mean()\n",
    "teacup_counts_per_day = df.groupby('date_of_visit')['TeacupRide'].count()\n",
    "teacup_means_per_day = teacup_counts_per_day.mean()"
   ]
  },
  {
   "cell_type": "code",
   "execution_count": 34,
   "id": "054cc313",
   "metadata": {},
   "outputs": [],
   "source": [
    "import matplotlib.pyplot as plt"
   ]
  },
  {
   "cell_type": "code",
   "execution_count": 35,
   "id": "ed08942d",
   "metadata": {},
   "outputs": [
    {
     "data": {
      "text/plain": [
       "<matplotlib.legend.Legend at 0x7bb849a30740>"
      ]
     },
     "execution_count": 35,
     "metadata": {},
     "output_type": "execute_result"
    },
    {
     "data": {
      "image/png": "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",
      "text/plain": [
       "<Figure size 640x480 with 1 Axes>"
      ]
     },
     "metadata": {},
     "output_type": "display_data"
    }
   ],
   "source": [
    "# river rides histogram \n",
    "river_counts = pd.Series(river_counts_per_day)\n",
    "river_counts.plot.hist(bins=10, alpha=0.7, color='blue', title='River Ride Count Frequency')\n",
    "river_means = river_means_per_day\n",
    "plt.axvline(river_means_per_day, color='red', label='Mean River Rides')\n",
    "plt.xlabel('Number of Times Ridden')\n",
    "plt.legend()\n"
   ]
  },
  {
   "cell_type": "code",
   "execution_count": 36,
   "id": "120dab1a",
   "metadata": {},
   "outputs": [
    {
     "data": {
      "text/plain": [
       "<matplotlib.legend.Legend at 0x7bb84ba79d00>"
      ]
     },
     "execution_count": 36,
     "metadata": {},
     "output_type": "execute_result"
    },
    {
     "data": {
      "image/png": "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",
      "text/plain": [
       "<Figure size 640x480 with 1 Axes>"
      ]
     },
     "metadata": {},
     "output_type": "display_data"
    }
   ],
   "source": [
    "# martin rides histogram \n",
    "martian_counts = pd.Series(martian_counts_per_day)\n",
    "martian_counts.plot.hist(bins=10, alpha=0.7, color='green', title='Martian Ride Count Frequency')\n",
    "martian_means = martian_means_per_day\n",
    "plt.axvline(martian_means_per_day, color='red', label='Mean Martian Rides')\n",
    "plt.xlabel('Number of Times Ridden')\n",
    "plt.legend()"
   ]
  },
  {
   "cell_type": "code",
   "execution_count": 37,
   "id": "dc1f5af9",
   "metadata": {},
   "outputs": [
    {
     "data": {
      "text/plain": [
       "<matplotlib.legend.Legend at 0x7bb84977d0a0>"
      ]
     },
     "execution_count": 37,
     "metadata": {},
     "output_type": "execute_result"
    },
    {
     "data": {
      "image/png": "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",
      "text/plain": [
       "<Figure size 640x480 with 1 Axes>"
      ]
     },
     "metadata": {},
     "output_type": "display_data"
    }
   ],
   "source": [
    "# teacup rides histogram \n",
    "teacup_counts = pd.Series(teacup_counts_per_day)\n",
    "teacup_counts.plot.hist(bins=10, alpha=0.7, color='orange', title='Teacup Ride Count Frequency')\n",
    "teacup_means = teacup_means_per_day\n",
    "plt.axvline(teacup_means_per_day, color='red', label='Mean Teacup Rides')\n",
    "plt.xlabel('Number of Times Ridden')\n",
    "plt.legend()"
   ]
  },
  {
   "cell_type": "markdown",
   "id": "5f1bc078-f570-4747-86b6-4979af98ddab",
   "metadata": {},
   "source": [
    "6. Make a bar chart showing the total number of Adult and Child participants.\n",
    "\n",
    "Try to formulate your own Google search or ChatGPT prompt.\n",
    "\n",
    "Here's one page I found:\n",
    "\n",
    "https://matplotlib.org/stable/api/_as_gen/matplotlib.pyplot.bar.html\n",
    "\n",
    "which shows some interesting examples for you to use.  I recommend clicking on the first, basic example to see how to use the function.\n",
    "\n",
    "You can also look up the pandas documentation, which might lead to an entirely different method."
   ]
  },
  {
   "cell_type": "code",
   "execution_count": 38,
   "id": "4a4e6d49-3065-4510-ae62-bc34d7254b5b",
   "metadata": {},
   "outputs": [
    {
     "name": "stdout",
     "output_type": "stream",
     "text": [
      "IsAdult\n",
      "True     6625\n",
      "False    3375\n",
      "Name: count, dtype: int64\n"
     ]
    }
   ],
   "source": [
    "adult_count = df['IsAdult'].value_counts()\n",
    "print(adult_count)"
   ]
  },
  {
   "cell_type": "code",
   "execution_count": 39,
   "id": "853408f3",
   "metadata": {},
   "outputs": [
    {
     "data": {
      "text/plain": [
       "Text(0, 0.5, 'Count')"
      ]
     },
     "execution_count": 39,
     "metadata": {},
     "output_type": "execute_result"
    },
    {
     "data": {
      "image/png": "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",
      "text/plain": [
       "<Figure size 640x480 with 1 Axes>"
      ]
     },
     "metadata": {},
     "output_type": "display_data"
    }
   ],
   "source": [
    "adult_count.plot.bar(color=['green', 'red'], title='Adult vs Child Counts')\n",
    "plt.ylabel('Count')\n"
   ]
  },
  {
   "cell_type": "markdown",
   "id": "5e1657a7-b2f4-4e0c-a019-96f6a0a49390",
   "metadata": {},
   "source": [
    "7. Make a stacked bar chart showing how many Adult and Child visits took the River Ride, with the x-axis showing the number of rides and with two stacked bars (adult, child).  That is, there could be a column for the number of Adults (and Children) who took 0 rides, 1 ride, 2 rides, and so on.\n",
    "\n",
    "Try to formulate your own Google search or ChatGPT prompt.\n",
    "\n",
    "For me, the pandas documentation was easier than the matplotlib documentation.\n",
    "\n",
    "* If you use the pandas method, you might have to one-hot encode the IsAdult column.  You might want names for the new columns other than True and False.  Use df.join or pd.concat to attach the pd.get_dummies table you've created, and then groupby the RiverRide value.\n",
    "\n",
    "* You will need to end up with a small table with two columns (IsAdult True and False) and an index (RiverRide) as well as a small number of rows (the values of RiverRide)\n",
    "\n",
    "* That said, if you can come up with another approach, it's fine."
   ]
  },
  {
   "cell_type": "code",
   "execution_count": 40,
   "id": "11c7eda8",
   "metadata": {},
   "outputs": [],
   "source": [
    "df['date_of_visit'] = pd.to_datetime(df['VisitDate'])\n",
    "river_counts_per_day = df.groupby('date_of_visit')['RiverRide'].count()\n",
    "river_means_per_day = river_counts_per_day.mean()"
   ]
  },
  {
   "cell_type": "code",
   "execution_count": 41,
   "id": "00d2ca15",
   "metadata": {},
   "outputs": [
    {
     "name": "stdout",
     "output_type": "stream",
     "text": [
      "      VisitDate  MartianRide  TeacupRide  RiverRide  MoneySpent date_of_visit  \\\n",
      "0    2010-01-01            0           1          4       10.30    2010-01-01   \n",
      "1    2010-01-01            3           0          0       38.77    2010-01-01   \n",
      "2    2010-01-01            0           0          0       79.34    2010-01-01   \n",
      "3    2010-01-01            0           0          1       87.84    2010-01-01   \n",
      "4    2010-01-02            0           1          2       18.65    2010-01-02   \n",
      "...         ...          ...         ...        ...         ...           ...   \n",
      "9995 2023-12-28            2           0          0       97.90    2023-12-28   \n",
      "9996 2023-12-28           10           0          0       19.26    2023-12-28   \n",
      "9997 2023-12-29            0           1          3       54.85    2023-12-29   \n",
      "9998 2023-12-30            3           0          1        9.53    2023-12-30   \n",
      "9999 2023-12-31            0           0          1       40.02    2023-12-31   \n",
      "\n",
      "      IsAdult_False  IsAdult_True  \n",
      "0              True         False  \n",
      "1             False          True  \n",
      "2             False          True  \n",
      "3             False          True  \n",
      "4              True         False  \n",
      "...             ...           ...  \n",
      "9995          False          True  \n",
      "9996          False          True  \n",
      "9997           True         False  \n",
      "9998          False          True  \n",
      "9999          False          True  \n",
      "\n",
      "[10000 rows x 8 columns]\n",
      "      VisitDate  MartianRide  TeacupRide  RiverRide  MoneySpent date_of_visit  \\\n",
      "0    2010-01-01            0           1          4       10.30    2010-01-01   \n",
      "1    2010-01-01            3           0          0       38.77    2010-01-01   \n",
      "2    2010-01-01            0           0          0       79.34    2010-01-01   \n",
      "3    2010-01-01            0           0          1       87.84    2010-01-01   \n",
      "4    2010-01-02            0           1          2       18.65    2010-01-02   \n",
      "...         ...          ...         ...        ...         ...           ...   \n",
      "9995 2023-12-28            2           0          0       97.90    2023-12-28   \n",
      "9996 2023-12-28           10           0          0       19.26    2023-12-28   \n",
      "9997 2023-12-29            0           1          3       54.85    2023-12-29   \n",
      "9998 2023-12-30            3           0          1        9.53    2023-12-30   \n",
      "9999 2023-12-31            0           0          1       40.02    2023-12-31   \n",
      "\n",
      "      IsAdult_False  IsAdult_True  \n",
      "0                 1             0  \n",
      "1                 0             1  \n",
      "2                 0             1  \n",
      "3                 0             1  \n",
      "4                 1             0  \n",
      "...             ...           ...  \n",
      "9995              0             1  \n",
      "9996              0             1  \n",
      "9997              1             0  \n",
      "9998              0             1  \n",
      "9999              0             1  \n",
      "\n",
      "[10000 rows x 8 columns]\n"
     ]
    }
   ],
   "source": [
    "df_encoded = pd.get_dummies(df, columns=['IsAdult'], drop_first=False)\n",
    "pd.concat([df, df_encoded], axis=1)\n",
    "print(df_encoded)\n",
    "#df_encoded = df.rename(columns={'IsAdult_False': 'Child', 'IsAdult_True':'Adult'})\n",
    "#IsAdultTrue = Adult\n",
    "#IsAdultFalse = Child\n",
    "\n",
    "df_encoded['date_of_visit'] = pd.to_datetime(df['VisitDate'])\n",
    "river_counts_per_day = df_encoded.groupby('date_of_visit')['RiverRide'].count()\n",
    "#df.columns = df.columns.str.strip()\n",
    "df_encoded['IsAdult_True'] = df_encoded['IsAdult_True'].astype(int)\n",
    "df_encoded['IsAdult_False'] = df_encoded['IsAdult_False'].astype(int)\n",
    "print(df_encoded)\n",
    "\n",
    "#river_counts_per_day.plot.bar(stacked=True, color'skyblue')\n"
   ]
  },
  {
   "cell_type": "code",
   "execution_count": 42,
   "id": "7a096941",
   "metadata": {},
   "outputs": [
    {
     "data": {
      "text/plain": [
       "<Axes: xlabel='RiverRide'>"
      ]
     },
     "execution_count": 42,
     "metadata": {},
     "output_type": "execute_result"
    },
    {
     "data": {
      "image/png": "iVBORw0KGgoAAAANSUhEUgAAAioAAAGrCAYAAADuNLxTAAAAOXRFWHRTb2Z0d2FyZQBNYXRwbG90bGliIHZlcnNpb24zLjkuMywgaHR0cHM6Ly9tYXRwbG90bGliLm9yZy/GU6VOAAAACXBIWXMAAA9hAAAPYQGoP6dpAAAveElEQVR4nO3deXhU5d3/8c/MZAPZBRLAYFCggEDYCo00yhINLvgDrSKoLLKoNaUSBaECAWmJUkRc0DzFIPrUCIpUfQqiNDVSDIoEErQioLIpJAFZAmEJyZzfH2GGmWQmZAIxt/B+Xde5yJxz3+f+njNLPpxlYrMsyxIAAICB7DVdAAAAgD8EFQAAYCyCCgAAMBZBBQAAGIugAgAAjEVQAQAAxiKoAAAAYwXVdAGV4XQ6tXfvXtWtW1c2m62mywEAAJVgWZaOHj2q5s2by26v2rGRX0RQ2bt3ryIjI2u6DAAAUAV79uzRFVdcUaW+v4igUrduXUmlG1qvXr0argYAAFRGQUGBIiMj3b/Hq+IXEVRcp3vq1atHUAEA4BfmfC7b4GJaAABgLIIKAAAwFkEFAAAY6xdxjQoAoGY4nU4VFRXVdBkwVHBwsBwOR7WOQVABAPhUVFSkHTt2yOl01nQpMFiDBg0UERFRbd9zRlABAJRjWZb27dsnh8OhyMjIKn9ZFy5elmXp+PHjys/PlyQ1a9asWsYhqAAAyikuLtbx48fVvHlz1a5du6bLgaFq1aolScrPz1fTpk2r5TQQERkAUE5JSYkkKSQkpIYrgelcQfb06dPVsn6CCgDAL/6+Gs6lul8jBBUAAGAsggoAADBWwBfTrlmzRn/961+VlZWlffv26R//+IcGDRpUYZ+MjAwlJibqv//9ryIjIzV16lSNHDmyiiUDAGpK1OQVP+t4O5+65Wcd71wWL16sRx55RIcPH650nz59+qhLly6aP39+tdV1MQv4iEphYaGio6O1YMGCSrXfsWOHbrnlFvXt21fZ2dl65JFHNGbMGH344YcBFwsAQEVGjhx5zv88e/rhhx8UEhKijh07Vl9RZURFRVU6tIwcOVI2m83vFBUVVa21miDgIyo33XSTbrrppkq3T0lJUatWrfTMM89Iktq3b6+1a9fq2WefVXx8fKDDAwBwwSxevFh33XWX1qxZo88//1y9evWq6ZK8PPfcc3rqqafcj5s1a6ZXX31VAwYMkKRytwMXFRVddHdqVfs1KuvWrVNcXJzXvPj4eK1bt85vn1OnTqmgoMBrAgAgEMuWLVOnTp1Uq1YtXX755YqLi1NhYaF7uWVZevXVV3Xfffdp2LBhSk1NLbeOxYsXq2XLlqpdu7YGDx6sn376yWu5ryM4jzzyiPr06eOzpj59+mjXrl2aMGGC+6hIRerXr6+IiAj3JJ39JtiIiAj9+te/1qxZszR8+HDVq1dP48aNU0ZGhmw2m9fpqezsbNlsNu3cudM9b+3atYqNjVWtWrUUGRmp8ePHe+0fU1T7F77l5uYqPDzca154eLgKCgp04sQJ95fFeEpOTtbMmTMrXK/neVLPc5iu+TvDhkkzjvhsX7aPZtRX1Mk0v/PLrqui9pJK+5SpaWfYMJ/r8lrmYzt8bV+g7d37Q/K5TyraV4HuW381VbSsMvv8XGP7e4587St/z5+/fXuu57v0Zz81+VhW0Xx/YweyP1zr8VWvv+12CeQ1WHYbqrrP/W1HRTX5er7dbQJ4/qqynyp8D1fhvXGh3mOV/ZwK+HnN/1oKOvPLtHlX/ez2btJmZyt1vqKBe9bmHw5Lkjrbd5RbdqiwSEdPnFZ61jcaOnSo5syZo8GDB+vod+u15LPdsvZmS216S5I+/vhjFRwrVFyHy3XMcZtG3T5Azz77rC677DJp7yZ9vvFLjR49WsnJyRo0aJBWrVqlqdOnS5Yl7d3kt9YDx055zS48VVw6b+8mLV++XNHR0Ro3bpx633KXOth3a/MPh722wWvdHvvctd07DxR69Zk7d67GjJ+oTav+Lkna4/GnmVx9tuUd9arpu8z3NSD+bv150u+1aNEi7d+/XwkJCRo2apxmzVugzvYd5cZ27+8yy7bmFij/0Am1WtFDeuyrs4PMqK+OR14pv58CZORdP1OmTNGRI0fc0549e2q6JADAL8iB/DwVFxfr9ttvV1RUlDq1b6MhI8aozmVnv2U3NTVVAwbeLofDoTbtOuiqq67S22+/7V7+XOqb6t2nvyZNmqS2bdtq/Pjxuva6fudVV6NGjeRwOFS3bl01bhquiKaNz2t9ktSvXz+NeCBBV0dF6uqoyEr1SX7xVd0z+CY9MvYetWnTRtdee62ef/55/fOdJTp18uR513QhVXtQiYiIUF5ente8vLw81atXz+fRFEkKDQ1VvXr1vCYAACqrbYeO6t+/vzp16qQ777xTC99YrgKPUyGHDx/W8uXLdcvtd7nn3XvvvV6nf7Zs36GOXXt4rTe6e89qrz1QPXr0OHejMnK+3qbFb/+f6rTprTp16qhOnTqKj4+X0+nUj3t2VUOVVVftp35iYmK0cuVKr3mrV69WTExMdQ8NALhEORwOrV69WpmZmfroo4/0wqtp+uHpFGX981W1at5VaWlpOnnypO69LU73nuljWZacTqe2bdumtnUqN47dbpdlWV7ziqvpq+T9ueyyy7weu/6AZGldNp81HSs8rgfuvUPj779bCr/GPf+bfQVq1uIKST9Wa82BCPiIyrFjx5Sdna3s7GxJpbcfZ2dna/fu3ZJKT9sMHz7c3f7BBx/U999/r0mTJumbb77RSy+9pLfeeksTJky4MFsAAIAPNptNvXv31syZM7XpwzcVHByif3zwsaTS0z6PPvqolq5ao+yP3tTSVWuUk5Oj2NhYLVq0SJLUvk0rfbVpg9c6N2/8wutxkyZNtG/fPq95W7/+ssK6QkJC3H9LqTo0adJEkrzqKltTt07t9fW279W6VUu1bt3aPbVsdZWCDbtrKOCgsmHDBnXt2lVdu5ZeSJOYmKiuXbtq+vTpkkp3jCu0SFKrVq20YsUKrV69WtHR0XrmmWf0yiuvcGsyAKDabN60QbNnz9aGDRu0e/duLV/5bx06eEDt27RSdna2Nm7cqDFjxqhNuw7q2K516b8dO2ro0KF67bXXVFxcrPH3361PM9I1d+5cbd++XS+++KI+/STda5x+/fppw4YNev3117X9+9166Zlkfbt1S4W1RUVFac2aNcrbt1cHDh664NveunVrRUZGasaMGdq14zutSf9Qr//N+7vPHv/9CGVu2KyEJ55Sdna2tm/frvfee0+zp0684PWcr4BP/fTp06fcYS5Pixcv9tln0yYfV0gDAH5RXHcKVXQXiOtOE0nl7tbxdaeOv/k+76yppDp16mrNmjWaP3++CgoKdGWLCD06bZZu6tdbf0hOVYcOHdSuXTuvWiVp8ODBSkhI0Mp/f6rbbrxe059+Ts8997SmT5+uuLg4jf3DY1r4/F/d7ePj4zVt2jRNmjRJJ08UauBdw3XrHXdr345tfmt78skn9cADD+jW2G4qOnVKOXsubFgJDg7Wm2++qYceekh33vBbXRPdVQkTn9BjD450t+ncoa0+eWehnnh6gWJjY2VZlq6++mpdP+C2C1rLhVDt16gAAPBzmfXsS+6fV61adXbBmVuHpR164YUX/PaPiIgoPS1zJiQNvvteJT2W4F6++YfDGvFAgqQd7nkzZ84s/UoN9xjeAS317X+e+am0z29+8xvl5OR4BLTKb5/140b3GJLc34tSNnD17t1bmzdv9ppf9iDDr7tco4/efMlvyDSFkbcnAwAASAQVAABq1O/v+537FuE6deqU3jJ8Zpo9e3ZNl1fjOPUDAEANSprzvFo19LjTJu+/7h8btY+tgYrMQlABAKAGhTdrrtaeFxHX9vi6+0aNfvZ6TMOpHwAAYCyCCgAAMBZBBQAAGIugAgAAjEVQAQAAxuKuHwBA5c2oL0nqfOZhZx9NfM2rqE9F69K4jMrX9jN47600/XXmFBVsyah0n9F33qpfXdNJf39yXPUVVoHoyIZ6duHf1XnMPTUy/vniiAoA4KIxbcLv9cjoyv9Cztv3o0Kieur2/jHVWJW3qKgozZ8/v9LtMzIyZLPZFB3ZULYW3RQd2VDRkQ01derU6ivSIBxRAQBcst57603dNfAGpX+2WZ9//rl69epV0yX59d4nX6hnvUP62tlSktSzbYsarujnwREVAMBFadmyZerUqZNq1aqly6/pq3FDB6nw+An3csuy9N5bb+i+O27RTYN+p9TU1HLreO+tNLVs2VK1a9fW4MGDdfjQQa/lI0eO1KBBg7zmzZkxRX369PFZU58+fbRr1y5NmDDBfYSkshpd3kQRTRurcdNwNW4arjp16uiLL77QDTfcoOs7X6367a7T9XeM0caNG/2uo6ioSAkJCWrW9UaFXfUbXdnzZiUnJ7uXFxw5ohkTx6tJp36qV6+e+vXrp5ycnErXWB0IKgCAi87+vFwNHTpU999/v7Zs2aKMZX9T/wG3ev0F4Y8//lgnT55QXGwv3TL4Li1ZskSFhYXu5Z9v/FIzJv5BCQkJys7OVt++fbXwhbnnVdfy5ct1xRVX6Mknn1R61jfat+mj81rf0aNHNWLECC1e/oE++7/FatOqpW6++WYdPXrUZ/vnn39e77//vt5KeUpb1yzXGy/+RVFRUe7lEx8aqYMH9uuDv7+orKwsdevWTf3799eRQ4fOq87zwakfAMBF50B+noqLi3X77bfryiuvlEIOyfrVjapj3+Fuk5qaqgEDb5fD4VCbdh101VVX6e2339bIkSMlSc+lvqneffpr0qRJkqS2bdtq5b8ylPlJepXratSokRwOh+rWravGTcMVYT+ufGfl+t7Y8xrZ5ZTzzDGGPbt3qV+/fpKkzT8cVnt7sP42Z6oadOirTz75RLfeemu5dezevVtt2rTRb3t2lc1m05VXNJead5UkrV27Vl9lZ+njTdvVo9ZeqXkbzZ07V++++65Wr3xPsfddX+XtPh8EFQDARadth47q37+/OnXqpPj4eN3Ys53a3zRaOvOncw4fPqzly5fr1Xc+cPe59957lZqa6g4qW7bvUMyA273WG92953kFlfPx6jsr1b3uIX3jjJQkNWzYUHl5eZo6dao++te/dfinfJWUlOj4iZPavXu3z3WMHDlSN9xwg34VO1gD+l6rW+NidePQ0qCSk5Oj44WFuq7z1bLLKdlKA9GJEye0Z9cOSQQVAAAuCIfDodWrVyszM1MfffSRXng1TT88naKsf76qVs27Ki0tTSdPntS9t8Xp3jN9LMuS0+nUtm3b1LZO5cax2+1ep5Mkqfj06Qu7MWe0iLxSrRvW1XFnK/fYI0aM0E8//aRJM5PVJ9Ku0JBgxQwao6KiIp/r6Natm3bs2KEP3nhJ/1q7Xnc9+Lji3vm3li1bpmPHjqlx0wilvvV/amffI4Vf4+7343GbpIJq2a5z4RoVAMBFyWazqXfv3po5c6Y2ffimgoND9I8PPpZUetrn0Ucf1dJVa5T90ZtaumqNcnJyFBsbq0WLFkmS2rdppa82bfBa5+aNX3g9btKkifbt2+c1b+vXX1ZYV0hIiEpKSs538yRJn376qcaPH6/Yfjfqml9drdCQEB04cKDCPvXq1dOQ/xevhX+dpqUvP6V33nlHBw8eVLdu3fTT/jw5goLUulVLtW7d2j01bHT5Bam3KggqAICLzuZNGzR79mxt2LBBu3fv1vKV/9ahgwfUvk0rZWdna+PGjRozZozatOugju1al/7bsaOGDh2q1157TcXFxRp//936NCNdc+fO1fbt2/Xiiy/q0zKnffr166cNGzbo9ddf1/bvd+ulZ5L17dYtFdYWFRWlNWvWKG/fXh04eH4XqbZp00b/+7//q++3b9XnG7/UPX94QrVq1fLbft68eXrzzTf1zbc7tO27XXr7n/9SRESEGjRooLi4OHXu9mtNGHOPPvpknXbu3KnMzEw98cQT+m/OpvOq83xw6gcAUHkzjkgqvXizs32HNjtbqbN9h/uCTNcyl85XNPCa7+5TifnaW/VfjnXq1NWaNWs0f/58FRQU6MoWEXp02izd1K+3/pCcqg4dOqhdu3ZetUrS4MGDlZCQoJX//lS33Xi9pj/9nJ577mlNnz5dcXFxGvuHx7Tw+b+628fHx2vatGmaNGmSTp4o1MC7huvWO+7Wvh3b/Nb25JNP6oEHHtCtsd1UdOqUcvZUPaykpqZq3LhxuvumPmrZvKlmT07QY7MX+G1ft25dzZkzR9u3bZXD4dCvozto5cqVsttLj1sseP0tvTDnzxqVOEP7f3pEERERuu6663T9/2siqXpOaZ0LQQUAcNGY9exL7p9XrVp1dsHeTdrsbCVph1544QW//SMiIkpPy5wJSYPvvldJjyW4l2/+4bBGPJAg6ezdQzNnztTMmTM9xvAOaKlv//PMT6V9fvOb3ygnJ8cjoFW8TX369JFlWWdClff3uHTt2lVffPGFe12S9LtxE73aeAahsWPHauzYsd4h0CNkXlanriY/+bTS/vygj/B5dpt/Tpz6AQAAxiKoAABQg35/3+9Up06ds1Ob3u5p9uzZNV1ejePUDwAANShpzvNq1TDk7Iy8/7p/bNQ+tgYqMgtBBQCAGhTerLlae15EXNvj6+8bNfrZ6zENp34AAH6V+S4zoDzLkmRV24uFoAIAKMfhcEiSiir5d2hw6bKKi3S6xFLwyZ+qZf2c+gEAlBMUFKTatWtr/6FDCm4YJrtN0smT7uVWcZFO2i1ZztJ/yy5zOemvTyXmq7j0f+i+2kvyuy5fY6vYf61VHfvMIOXG8LXd7j4BjF12/Z7tfY3hq6aK9oe/Mc5Z65lllmXp+PHjOnTwgNK/P6abS06oOhBUAADl2Gw2NWvWTDu++1S7TjSSZJMKz36PRv6hEwqx7Ve+JYXY9pdb5hJyopbvPpWYr8P7S5f7aC/J77p8ja3D/mut6tiSvNblGsPXdrv7BDB22fV7tvc1hq+aKtof/sY4Z61llv3zmyNavqVQz4SpWhBUAAA+hYSEqM1//qCiWk0lu0NKOPt3b8Ysz1B66GMac2qu0kMfK7fMJf3RPr77VGK+XryzdLmP9pL8rsvX2HrxTr+1VnVsSV7rco3ha7vdfQIYu+z6Pdv7GsNXTRXtD39jnLNWj2XBwcF657XvVZ0IKgAAv+xWscKO7y19EHb2v8w/Hi1R2Ok9+vFk6b9ll7mE+etTifk6tqd0uY/2kvyuy9fYOua/1qqOXXafuMbwtd3uPgGMXXb9nu19jeGrpor2h78xzllrmWXVjYtpAQCAsQgqAADAWAQVAABgLIIKAAAwFkEFAAAYi6ACAACMRVABAADGIqgAAABjEVQAAICxCCoAAMBYBBUAAGAsggoAADAWQQUAABiLoAIAAIxFUAEAAMYiqAAAAGMRVAAAgLEIKgAAwFgEFQAAYCyCCgAAMBZBBQAAGIugAgAAjEVQAQAAxiKoAAAAYxFUAACAsQgqAADAWAQVAABgLIIKAAAwVpWCyoIFCxQVFaWwsDD16tVL69evr7D9/Pnz9atf/Uq1atVSZGSkJkyYoJMnT1apYAAAcOkIOKgsXbpUiYmJSkpK0saNGxUdHa34+Hjl5+f7bJ+WlqbJkycrKSlJW7ZsUWpqqpYuXao//elP5108AAC4uAUcVObNm6exY8dq1KhR6tChg1JSUlS7dm0tWrTIZ/vMzEz17t1bw4YNU1RUlG688UYNHTq0wqMwp06dUkFBgdcEAAAuPQEFlaKiImVlZSkuLu7sCux2xcXFad26dT77XHvttcrKynIHk++//14rV67UzTff7Hec5ORk1a9f3z1FRkYGUiYAALhIBAXS+MCBAyopKVF4eLjX/PDwcH3zzTc++wwbNkwHDhzQb3/7W1mWpeLiYj344IMVnvqZMmWKEhMT3Y8LCgoIKwAAXIKq/a6fjIwMzZ49Wy+99JI2btyo5cuXa8WKFZo1a5bfPqGhoapXr57XBAAALj0BHVFp3LixHA6H8vLyvObn5eUpIiLCZ59p06bpvvvu05gxYyRJnTp1UmFhocaNG6cnnnhCdjt3SAMAAN8CSgkhISHq3r270tPT3fOcTqfS09MVExPjs8/x48fLhRGHwyFJsiwr0HoBAMAlJKAjKpKUmJioESNGqEePHurZs6fmz5+vwsJCjRo1SpI0fPhwtWjRQsnJyZKkgQMHat68eeratat69eqlb7/9VtOmTdPAgQPdgQUAAMCXgIPKkCFDtH//fk2fPl25ubnq0qWLVq1a5b7Advfu3V5HUKZOnSqbzaapU6fqxx9/VJMmTTRw4ED95S9/uXBbAQAALkoBBxVJSkhIUEJCgs9lGRkZ3gMEBSkpKUlJSUlVGQoAAFzCuJIVAAAYi6ACAACMRVABAADGIqgAAABjEVQAAICxCCoAAMBYBBUAAGAsggoAADAWQQUAABiLoAIAAIxFUAEAAMYiqAAAAGMRVAAAgLEIKgAAwFgEFQAAYCyCCgAAMBZBBQAAGIugAgAAjEVQAQAAxiKoAAAAYxFUAACAsQgqAADAWAQVAABgLIIKAAAwFkEFAAAYi6ACAACMRVABAADGIqgAAABjEVQAAICxCCoAAMBYBBUAAGAsggoAADAWQQUAABiLoAIAAIxFUAEAAMYiqAAAAGMRVAAAgLEIKgAAwFgEFQAAYCyCCgAAMBZBBQAAGIugAgAAjEVQAQAAxiKoAAAAYxFUAACAsQgqAADAWAQVAABgLIIKAAAwFkEFAAAYi6ACAACMRVABAADGIqgAAABjEVQAAICxCCoAAMBYBBUAAGAsggoAADAWQQUAABiLoAIAAIxFUAEAAMaqUlBZsGCBoqKiFBYWpl69emn9+vUVtj98+LAefvhhNWvWTKGhoWrbtq1WrlxZpYIBAMClIyjQDkuXLlViYqJSUlLUq1cvzZ8/X/Hx8dq6dauaNm1arn1RUZFuuOEGNW3aVMuWLVOLFi20a9cuNWjQ4ELUDwAALmIBB5V58+Zp7NixGjVqlCQpJSVFK1as0KJFizR58uRy7RctWqSDBw8qMzNTwcHBkqSoqKjzqxoAAFwSAjr1U1RUpKysLMXFxZ1dgd2uuLg4rVu3zmef999/XzExMXr44YcVHh6ujh07avbs2SopKfE7zqlTp1RQUOA1AQCAS09AQeXAgQMqKSlReHi41/zw8HDl5ub67PP9999r2bJlKikp0cqVKzVt2jQ988wz+vOf/+x3nOTkZNWvX989RUZGBlImAAC4SFT7XT9Op1NNmzbV3/72N3Xv3l1DhgzRE088oZSUFL99pkyZoiNHjrinPXv2VHeZAADAQAFdo9K4cWM5HA7l5eV5zc/Ly1NERITPPs2aNVNwcLAcDod7Xvv27ZWbm6uioiKFhISU6xMaGqrQ0NBASgMAABehgI6ohISEqHv37kpPT3fPczqdSk9PV0xMjM8+vXv31rfffiun0+met23bNjVr1sxnSAEAAHAJ+NRPYmKiFi5cqNdee01btmzRQw89pMLCQvddQMOHD9eUKVPc7R966CEdPHhQf/zjH7Vt2zatWLFCs2fP1sMPP3zhtgIAAFyUAr49eciQIdq/f7+mT5+u3NxcdenSRatWrXJfYLt7927Z7WfzT2RkpD788ENNmDBBnTt3VosWLfTHP/5Rjz/++IXbCgAAcFEKOKhIUkJCghISEnwuy8jIKDcvJiZGn332WVWGAgAAlzD+1g8AADAWQQUAABiLoAIAAIxFUAEAAMYiqAAAAGMRVAAAgLEIKgAAwFgEFQAAYCyCCgAAMBZBBQAAGIugAgAAjEVQAQAAxiKoAAAAYxFUAACAsQgqAADAWAQVAABgLIIKAAAwFkEFAAAYi6ACAACMRVABAADGIqgAAABjEVQAAICxCCoAAMBYBBUAAGAsggoAADAWQQUAABiLoAIAAIxFUAEAAMYiqAAAAGMRVAAAgLEIKgAAwFgEFQAAYCyCCgAAMBZBBQAAGIugAgAAjEVQAQAAxiKoAAAAYxFUAACAsQgqAADAWAQVAABgLIIKAAAwFkEFAAAYi6ACAACMRVABAADGIqgAAABjEVQAAICxCCoAAMBYBBUAAGAsggoAADAWQQUAABiLoAIAAIxFUAEAAMYiqAAAAGMRVAAAgLEIKgAAwFgEFQAAYCyCCgAAMBZBBQAAGIugAgAAjFWloLJgwQJFRUUpLCxMvXr10vr16yvVb8mSJbLZbBo0aFBVhgUAAJeYgIPK0qVLlZiYqKSkJG3cuFHR0dGKj49Xfn5+hf127typxx57TLGxsVUuFgAAXFoCDirz5s3T2LFjNWrUKHXo0EEpKSmqXbu2Fi1a5LdPSUmJ7rnnHs2cOVNXXXXVeRUMAAAuHQEFlaKiImVlZSkuLu7sCux2xcXFad26dX77Pfnkk2ratKlGjx5dqXFOnTqlgoICrwkAAFx6AgoqBw4cUElJicLDw73mh4eHKzc312eftWvXKjU1VQsXLqz0OMnJyapfv757ioyMDKRMAABwkajWu36OHj2q++67TwsXLlTjxo0r3W/KlCk6cuSIe9qzZ081VgkAAEwVFEjjxo0by+FwKC8vz2t+Xl6eIiIiyrX/7rvvtHPnTg0cONA9z+l0lg4cFKStW7fq6quvLtcvNDRUoaGhgZQGAAAuQgEdUQkJCVH37t2Vnp7unud0OpWenq6YmJhy7du1a6cvv/xS2dnZ7um2225T3759lZ2dzSkdAABQoYCOqEhSYmKiRowYoR49eqhnz56aP3++CgsLNWrUKEnS8OHD1aJFCyUnJyssLEwdO3b06t+gQQNJKjcfAACgrICDypAhQ7R//35Nnz5dubm56tKli1atWuW+wHb37t2y2/nCWwAAcP4CDiqSlJCQoISEBJ/LMjIyKuy7ePHiqgwJAAAuQRz6AAAAxiKoAAAAYxFUAACAsQgqAADAWAQVAABgLIIKAAAwFkEFAAAYi6ACAACMRVABAADGIqgAAABjEVQAAICxCCoAAMBYBBUAAGAsggoAADAWQQUAABiLoAIAAIxFUAEAAMYiqAAAAGMRVAAAgLEIKgAAwFgEFQAAYCyCCgAAMBZBBQAAGIugAgAAjEVQAQAAxiKoAAAAYxFUAACAsQgqAADAWAQVAABgLIIKAAAwFkEFAAAYi6ACAACMRVABAADGIqgAAABjEVQAAICxCCoAAMBYBBUAAGAsggoAADAWQQUAABiLoAIAAIxFUAEAAMYiqAAAAGMRVAAAgLEIKgAAwFgEFQAAYCyCCgAAMBZBBQAAGIugAgAAjEVQAQAAxiKoAAAAYxFUAACAsQgqAADAWAQVAABgLIIKAAAwFkEFAAAYi6ACAACMRVABAADGIqgAAABjEVQAAICxCCoAAMBYVQoqCxYsUFRUlMLCwtSrVy+tX7/eb9uFCxcqNjZWDRs2VMOGDRUXF1dhewAAAJeAg8rSpUuVmJiopKQkbdy4UdHR0YqPj1d+fr7P9hkZGRo6dKg+/vhjrVu3TpGRkbrxxhv1448/nnfxAADg4hZwUJk3b57Gjh2rUaNGqUOHDkpJSVHt2rW1aNEin+3feOMN/f73v1eXLl3Url07vfLKK3I6nUpPT/c7xqlTp1RQUOA1AQCAS09AQaWoqEhZWVmKi4s7uwK7XXFxcVq3bl2l1nH8+HGdPn1ajRo18tsmOTlZ9evXd0+RkZGBlAkAAC4SAQWVAwcOqKSkROHh4V7zw8PDlZubW6l1PP7442revLlX2ClrypQpOnLkiHvas2dPIGUCAICLRNDPOdhTTz2lJUuWKCMjQ2FhYX7bhYaGKjQ09GesDAAAmCigoNK4cWM5HA7l5eV5zc/Ly1NERESFfefOnaunnnpK//rXv9S5c+fAKwUAAJecgE79hISEqHv37l4XwroujI2JifHbb86cOZo1a5ZWrVqlHj16VL1aAABwSQn41E9iYqJGjBihHj16qGfPnpo/f74KCws1atQoSdLw4cPVokULJScnS5KefvppTZ8+XWlpaYqKinJfy1KnTh3VqVPnAm4KAAC42AQcVIYMGaL9+/dr+vTpys3NVZcuXbRq1Sr3Bba7d++W3X72QM3LL7+soqIi/e53v/NaT1JSkmbMmHF+1QMAgItalS6mTUhIUEJCgs9lGRkZXo937txZlSEAAAD4Wz8AAMBcBBUAAGAsggoAADAWQQUAABiLoAIAAIxFUAEAAMYiqAAAAGMRVAAAgLEIKgAAwFgEFQAAYCyCCgAAMBZBBQAAGIugAgAAjEVQAQAAxiKoAAAAYxFUAACAsQgqAADAWAQVAABgLIIKAAAwFkEFAAAYi6ACAACMRVABAADGIqgAAABjEVQAAICxCCoAAMBYBBUAAGAsggoAADAWQQUAABiLoAIAAIxFUAEAAMYiqAAAAGMRVAAAgLEIKgAAwFgEFQAAYCyCCgAAMBZBBQAAGIugAgAAjEVQAQAAxiKoAAAAYxFUAACAsQgqAADAWAQVAABgLIIKAAAwFkEFAAAYi6ACAACMRVABAADGIqgAAABjEVQAAICxCCoAAMBYBBUAAGAsggoAADAWQQUAABiLoAIAAIxFUAEAAMYiqAAAAGMRVAAAgLEIKgAAwFgEFQAAYCyCCgAAMFaVgsqCBQsUFRWlsLAw9erVS+vXr6+w/dtvv6127dopLCxMnTp10sqVK6tULAAAuLQEHFSWLl2qxMREJSUlaePGjYqOjlZ8fLzy8/N9ts/MzNTQoUM1evRobdq0SYMGDdKgQYP01VdfnXfxAADg4hZwUJk3b57Gjh2rUaNGqUOHDkpJSVHt2rW1aNEin+2fe+45DRgwQBMnTlT79u01a9YsdevWTS+++OJ5Fw8AAC5uQYE0LioqUlZWlqZMmeKeZ7fbFRcXp3Xr1vnss27dOiUmJnrNi4+P17vvvut3nFOnTunUqVPux0eOHJEkFRQUuOc5Tx13/+xrfoHNkvy0L9tHp6yz/XzML7uuitq7xipbU4HN97q8llVy+wJt794fpQt9L7tA+9ZfTRUtq8w+P9fY/p4jX/vK3/MXaHvX831mge+afCyraL6/sQPZH671+KrX33af3YzKvwbLbkNV97m/7aioJl/Pt1d9Aby/Kzu/Mvu8Ku+NC/Ueq+znVFWeV48O573d/j6//L1u3Mv97KfKfhZW9F6q6ti+9lWVXzsB7nNfY1T0Oe9rf/gb45y1Bvg5LEmW5TFeoKwA/Pjjj5YkKzMz02v+xIkTrZ49e/rsExwcbKWlpXnNW7BggdW0aVO/4yQlJVmSmJiYmJiYmC6Caf369YHEDS9G3vUzZcoUHTlyxD0NGzaspksCAABV5HQ6q9w3oFM/jRs3lsPhUF5entf8vLw8RURE+OwTERERUHtJCg0NVWhoqPtxWFhYIGUCAACD2O1VPy4SUM+QkBB1795d6enp7nlOp1Pp6emKiYnx2ScmJsarvSStXr3ab3sAAAC3QM8VLVmyxAoNDbUWL15sff3119a4ceOsBg0aWLm5uZZlWdZ9991nTZ482d3+008/tYKCgqy5c+daW7ZssZKSkqzg4GDryy+/rPSY999/f42fX2NiYmJiYmKq2nQ+16gEHFQsy7JeeOEFq2XLllZISIjVs2dP67PPPnMvu/76660RI0Z4tX/rrbestm3bWiEhIdY111xjrVixIqDxUlNTa3wnMzExMTExMQU+hYaGWnv27KlK3LAsy7JslnU+9wwBAABUHyPv+gEAAJAIKgAAwGAEFQAAYCyCCgAAMFZAX/hWUyzLktPp9PrCGKfTKYfDIav0ziWv5Xa73f13BSzLks1mcy93/ezZ32azudvbbDavx77qsNls7jHsdruKi4u9xvRc7lp/SUmJV/12u939TX2u9bhqKykpkcPh8FrmuS673e61Pte4nu08edZss9lUXFwsh8Phtc88a3GN7blu1z6x2Wxe7V3r9HwOnE6nLMtSUFCQiouLFRQU5N7nnvvJc3+71ltSUuKuwVW357ie+8Zz+4KCgrz2kee3IHqOUVJSIknlnntXTZ6vE9e+d22Pw+Fw7zvP/SpJxcXFCg4O9qrJcz1lnyPXfinL1+vSNaZrLM/n0PXYc3td6/B83l01er5+PPej5/NZ9r3jeo0HBQV5ve48n8+yr09PrmWutq7tsCyr3PNRtq/nc+Z6Ljz3q2vbXT97vj491+Wq23Nsz/E8X5Ou+SUlJXI6nQoJCXGvz7UPPetxPfbcl67XvOd2e26T574r+77w9XPZ/mV/9nyfurbX87Hna8TzeT99+rT7eS1bs2ednu/fsp+9nmP427dl38OSFBwcXK6t53vN1+eF52eL67Oi7Da5avFct+v17vrXczs9x/H8/Pd8zZR9DdpsNvc+cNXl+bnv+TvE87nxfJ96vi9d43h+TpX9veVah2ctnu+9oKAgnT59Wg6Hw2vfl90XrnW6xvB8PXnWXPb96trGsr8vyz5/nvvpfL7kzZORQWXevHl69NFHa7oMAABwAQwZMkRLliypUl+jbk9OTEzU/Pnzz++vLAIAACMFBwerqKgooD5GBZWyh/kAAMDFJdDf80ZdTDt79uyaLgEAABjEqCMqkspdmAYAAC4ev+gjKgAAAJ6MCyoX6nYmAADwy2dcKrj22mtrugQAAFANrrzyyoD7GHeNCgAAgItxR1QAAABcCCoAAMBYBBUAAGAsggoAADAWQQXAOe3cuVM2m03Z2dk1XYqkytWTkZEhm82mw4cP/2x1AbjwCCoANHLkSPefcA8ODlarVq00adIknTx5UpIUGRmpffv2qWPHjjVey89dD4CaFVTTBQAww4ABA/Tqq6/q9OnTysrK0ogRI2Sz2fT000/L4XAoIiKiWscvKipSSEjIOWuR9LPUA8AMHFEBIEkKDQ1VRESEIiMjNWjQIMXFxWn16tWSvE+1OJ1OXXHFFXr55Ze9+m/atEl2u127du2SJB0+fFhjxoxRkyZNVK9ePfXr1085OTnu9jNmzFCXLl30yiuvqFWrVgoLC6tULWXrcVm5cqXatm2rWrVqqW/fvtq5c2e5bVy7dq1iY2NVq1YtRUZGavz48SosLLwQuw9ANSGoACjnq6++UmZmpvsIhye73a6hQ4cqLS3Na/4bb7yh3r17u7958s4771R+fr4++OADZWVlqVu3burfv78OHjzo7vPtt9/qnXfe0fLly/1eb1JRLS579uzR7bffroEDByo7O1tjxozR5MmTvdp89913GjBggO644w5t3rxZS5cu1dq1a5WQkFDZ3QKgJlgALnkjRoywHA6Hddlll1mhoaGWJMtut1vLli2zLMuyduzYYUmyNm3aZFmWZW3atMmy2WzWrl27LMuyrJKSEqtFixbWyy+/bFmWZf3nP/+x6tWrZ508edJrnKuvvtr6n//5H8uyLCspKckKDg628vPzA6rFVz1TpkyxOnTo4LWexx9/3JJkHTp0yLIsyxo9erQ1btw4rzb/+c9/LLvdbp04caKKew5AdeMaFQCSpL59++rll19WYWGhnn32WQUFBemOO+7w2bZLly5q37690tLSNHnyZH3yySfKz8/XnXfeKUnKycnRsWPHdPnll3v1O3HihL777jv34yuvvFJNmjQ5r1okacuWLerVq5fXvJiYGK/HOTk52rx5s9544w33PMuy5HQ6tWPHDrVv397v+gHUHIIKAEnSZZddptatW0uSFi1apOjoaKWmpmr06NE+299zzz3uoJKWlqYBAwa4g8mxY8fUrFkzZWRklOvXoEEDrzEvRC2VcezYMT3wwAMaP358uWUtW7as8noBVC+CCoBy7Ha7/vSnPykxMVHDhg3z2WbYsGGaOnWqsrKytGzZMqWkpLiXdevWTbm5uQoKClJUVNQFraVWrVrl2rRv317vv/++17zPPvvM63G3bt309ddfuwMQgF8GLqYF4NOdd94ph8OhBQsW+FweFRWla6+9VqNHj1ZJSYluu+0297K4uDjFxMRo0KBB+uijj7Rz505lZmbqiSee0IYNGy54LQ8++KC2b9+uiRMnauvWrUpLS9PixYu92jz++OPKzMxUQkKCsrOztX37dr333ntcTAsYjqACwKegoCAlJCRozpw5fm/hveeee5STk6PBgwd7Hemw2WxauXKlrrvuOo0aNUpt27bV3XffrV27dik8PPyC19KyZUu98847evfddxUdHa2UlBTNnj3bq03nzp31ySefaNu2bYqNjVXXrl01ffp0NW/ePOB6APx8bJZlWTVdBAAAgC8cUQEAAMYiqAAAAGMRVAAAgLEIKgAAwFgEFQAAYCyCCgAAMBZBBQAAGIugAgAAjEVQAQAAxiKoAAAAYxFUAACAsf4/SCK01NwJOs4AAAAASUVORK5CYII=",
      "text/plain": [
       "<Figure size 640x480 with 1 Axes>"
      ]
     },
     "metadata": {},
     "output_type": "display_data"
    }
   ],
   "source": [
    "df_graph = df_encoded[['RiverRide', 'IsAdult_True', 'IsAdult_False']]\n",
    "df_graph.set_index('RiverRide', inplace=True)\n",
    "df_graph.plot(kind='bar', stacked=True)"
   ]
  },
  {
   "cell_type": "markdown",
   "id": "81685e12-982a-45f8-a8fe-0241448cf10d",
   "metadata": {},
   "source": [
    "8. Other tasks\n",
    "\n",
    "Use seaborn (import seaborn as sns) to create a kernel density estimation (kde) plot.  Here is a tutorial you can read about seaborn:\n",
    "\n",
    "https://seaborn.pydata.org/tutorial/introduction.html\n",
    "\n",
    "Seaborn often makes nicer looking graphs than pandas or matplotlib.\n",
    "\n",
    "Now use seaborn to make a swarm plot, a violin plot, and a box plot.\n",
    "\n",
    "Which plots are the best for showing this data?"
   ]
  },
  {
   "cell_type": "code",
   "execution_count": 43,
   "id": "5e7b55e9",
   "metadata": {},
   "outputs": [
    {
     "data": {
      "text/plain": [
       "<Axes: xlabel='RiverRide', ylabel='Density'>"
      ]
     },
     "execution_count": 43,
     "metadata": {},
     "output_type": "execute_result"
    },
    {
     "data": {
      "image/png": "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",
      "text/plain": [
       "<Figure size 640x480 with 1 Axes>"
      ]
     },
     "metadata": {},
     "output_type": "display_data"
    }
   ],
   "source": [
    "import seaborn as sns \n",
    "sns.kdeplot(data=df)\n",
    "#sns.swarmplot(x=\"RiverRide\", y=\"MoneySpent\", data=df)\n",
    "sns.violinplot(x=\"RiverRide\", y=\"MoneySpent\", data=df)\n"
   ]
  },
  {
   "cell_type": "markdown",
   "id": "0cbb5ee5-7cc5-4647-8f17-d9d30ce3c9f4",
   "metadata": {},
   "source": [
    "# 4. Storytelling With Data graph\n",
    "\n",
    "Try to make a scatterplot using amusement park dataset that is similar to the one on page 45, where the two axes are the Teacup Ride count and the River Ride count.  If you want to see individual dots and not a dense swarm of dots, you'll have to cut the dataset down to a small number of points (say, 100 points or so).  You can remove the other points, for instance, and focus on the first 100 points.\n",
    "\n",
    "Here are some things you could do (you don't have to do all of them):\n",
    "\n",
    "* Draw a dashed line that roughly separates the adult from child points.\n",
    "\n",
    "* Draw the points in the adult vs. child region of the graph in different colors.\n",
    "\n",
    "* Choose the right size and number of dots to make the graph look good.\n",
    "\n",
    "* Write a word that appears on the dashed line (like AVG in the plot on page 45).\n",
    "\n",
    "If there are any other graphs in the Storytelling With Data chapter that look interesting, and you want more practice, you can try to reproduce them too."
   ]
  },
  {
   "cell_type": "code",
   "execution_count": 44,
   "id": "33d5f349-b7e8-4730-a6da-114d6dc13eca",
   "metadata": {},
   "outputs": [
    {
     "data": {
      "text/plain": [
       "<matplotlib.collections.PathCollection at 0x7bb83bab1400>"
      ]
     },
     "execution_count": 44,
     "metadata": {},
     "output_type": "execute_result"
    },
    {
     "data": {
      "image/png": "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",
      "text/plain": [
       "<Figure size 800x600 with 1 Axes>"
      ]
     },
     "metadata": {},
     "output_type": "display_data"
    }
   ],
   "source": [
    "import matplotlib.pyplot as plt\n",
    "teacup_data = df['TeacupRide'].iloc[:100]\n",
    "river_data = df['RiverRide'].iloc[:100]\n",
    "plt.figure(figsize=(8,6))\n",
    "plt.scatter(teacup_data, river_data)\n"
   ]
  },
  {
   "cell_type": "code",
   "execution_count": null,
   "id": "129e09e9",
   "metadata": {},
   "outputs": [],
   "source": []
  }
 ],
 "metadata": {
  "kernelspec": {
   "display_name": "Python 3",
   "language": "python",
   "name": "python3"
  },
  "language_info": {
   "codemirror_mode": {
    "name": "ipython",
    "version": 3
   },
   "file_extension": ".py",
   "mimetype": "text/x-python",
   "name": "python",
   "nbconvert_exporter": "python",
   "pygments_lexer": "ipython3",
   "version": "3.12.1"
  }
 },
 "nbformat": 4,
 "nbformat_minor": 5
}
>>>>>>> 1ed0de2b6afa494f630a5e89ac1925fda71730a7
